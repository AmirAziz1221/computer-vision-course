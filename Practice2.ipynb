{
 "cells": [
  {
   "cell_type": "markdown",
   "id": "461b5ddd",
   "metadata": {},
   "source": [
    "## Drawing a line\n",
    "- cv2.line()"
   ]
  },
  {
   "cell_type": "code",
   "execution_count": 1,
   "id": "d5f613e0",
   "metadata": {},
   "outputs": [
    {
     "name": "stdout",
     "output_type": "stream",
     "text": [
      "Image dimensions: 960x1280, Channels: 3\n"
     ]
    }
   ],
   "source": [
    "import cv2\n",
    "import numpy as np\n",
    "\n",
    "# Load the image\n",
    "image = cv2.imread('image.jpg')  # Use double backslashes or raw string\n",
    "\n",
    "# Check if image is loaded properly\n",
    "if image is not None:\n",
    "    height, width, channels = image.shape\n",
    "    print(f\"Image dimensions: {width}x{height}, Channels: {channels}\")\n",
    "else:\n",
    "    print(\"Error: Could not read the image.\")\n"
   ]
  },
  {
   "cell_type": "code",
   "execution_count": 2,
   "id": "209e104f",
   "metadata": {},
   "outputs": [
    {
     "name": "stdout",
     "output_type": "stream",
     "text": [
      "Image found, proceeding with center crop...\n"
     ]
    }
   ],
   "source": [
    "if image is None:\n",
    "    print(\"Image not found\")\n",
    "else:\n",
    "    print(\"Image found, proceeding with center crop...\")\n",
    "\n",
    "    # Get image dimensions\n",
    "    height, width = image.shape[:2]\n",
    "\n",
    "    # Desired dimensions\n",
    "    target_width = 600\n",
    "    target_height = 600\n",
    "\n",
    "    # Calculate starting point for cropping (centered)\n",
    "    start_x = max((width - target_width) // 2, 0)\n",
    "    start_y = max((height - target_height) // 2, 0)\n",
    "\n",
    "    # Ensure cropping doesn't go out of bounds\n",
    "    end_x = start_x + target_width\n",
    "    end_y = start_y + target_height\n",
    "\n",
    "    # Crop the image\n",
    "    cropped_image = image[start_y:end_y, start_x:end_x]\n",
    "\n",
    "    # Display and save\n",
    "    cv2.imshow('Original Image', image)\n",
    "    cv2.imshow('Cropped Center Image', cropped_image)\n",
    "    cv2.waitKey(0)\n",
    "    cv2.destroyAllWindows()\n",
    "    cv2.imwrite('output_center_cropped_700x100.png', cropped_image)"
   ]
  },
  {
   "cell_type": "code",
   "execution_count": null,
   "id": "bd670e7c",
   "metadata": {},
   "outputs": [
    {
     "name": "stdout",
     "output_type": "stream",
     "text": [
      "Image loaded successfully.\n"
     ]
    }
   ],
   "source": [
    "if cropped_image is None:\n",
    "    print(\"Opps! Image not found.\")\n",
    "else:\n",
    "    line_image = cropped_image.copy()\n",
    "    print(\"Image loaded successfully.\")\n",
    "    pt1 = (50, 100)  # Top-left corner of the rectangle\n",
    "    pt2 = (200, 300) # Bottom-right corner of the rectangle\n",
    "    thickness = 4  # Thickness of the rectangle border\n",
    "\n",
    "    line_image=cv2.line(line_image , pt1, pt2, (0, 255, 0), thickness)  # Draw a line on the image\n",
    "    cv2.imwrite('output_image_withLine.jpg', line_image)  # Save the image with the line\n",
    "    cv2.imshow('Image with Line', line_image)  # Display the image with the line\n",
    "    cv2.waitKey(0)\n",
    "    rectangle_image = cv2.rectangle(line_image, pt1, pt2, (0, 255, 0), thickness)  # Draw a rectangle on the image\n",
    "    cv2.imwrite('output_image_withLine&rectangle.jpg', rectangle_image)  # Save the image with the rectangle\n",
    "    cv2.imshow('Image with Rectangle', rectangle_image) # Display the image with the rectangle\n",
    "    cv2.waitKey(0)\n",
    "    cv2.destroyAllWindows()  # Close all OpenCV windows"
   ]
  },
  {
   "cell_type": "markdown",
   "id": "85ebfcc5",
   "metadata": {},
   "source": [
    "## circle draw"
   ]
  },
  {
   "cell_type": "code",
   "execution_count": null,
   "id": "e8118c04",
   "metadata": {},
   "outputs": [
    {
     "name": "stdout",
     "output_type": "stream",
     "text": [
      "Circle drawn and saved successfully.\n"
     ]
    }
   ],
   "source": [
    "# draw circle\n",
    "if cropped_image is not None:\n",
    "    circle_image = cropped_image.copy()  # Create a copy of the cropped image for drawing\n",
    "    center = (150, 200)  # Center of the circle\n",
    "    radius = 50  # Radius of the circle\n",
    "    color = (0, 255, 0)  # Color of the circle in BGR format\n",
    "    thickness = -1  # Thickness of the circle (-1 means filled circle)\n",
    "\n",
    "    circle = cv2.circle(circle_image, center, radius, color, thickness)  # Draw a circle on the image\n",
    "    cv2.imshow('Image with Circle', circle)  # Display the image with the circle\n",
    "    cv2.imwrite('output_image_withCircle.jpg', circle)  # Save the image with the circle\n",
    "    print(\"Circle drawn and saved successfully.\")\n",
    "    cv2.waitKey(0)  # Wait for a key press\n",
    "    cv2.destroyAllWindows()  # Close all OpenCV windows"
   ]
  },
  {
   "cell_type": "code",
   "execution_count": null,
   "id": "ce444684",
   "metadata": {},
   "outputs": [],
   "source": [
    "# adding test to image"
   ]
  },
  {
   "cell_type": "code",
   "execution_count": null,
   "id": "ec96cd38",
   "metadata": {},
   "outputs": [],
   "source": []
  },
  {
   "cell_type": "code",
   "execution_count": null,
   "id": "8f1f1681",
   "metadata": {},
   "outputs": [],
   "source": []
  },
  {
   "cell_type": "code",
   "execution_count": 7,
   "id": "6478442f",
   "metadata": {},
   "outputs": [
    {
     "name": "stdout",
     "output_type": "stream",
     "text": [
      "Cropped image loaded successfully.\n"
     ]
    }
   ],
   "source": [
    "# Assume cropped_image is already loaded and valid\n",
    "if cropped_image is None:\n",
    "    print(\"Oops! Image not found.\")\n",
    "else:\n",
    "    print(\"Cropped image loaded successfully.\")\n",
    "\n",
    "    # Copy the image to preserve original\n",
    "    image_with_grid = cropped_image.copy()\n",
    "\n",
    "    # Get dimensions\n",
    "    height, width = image_with_grid.shape[:2]\n",
    "\n",
    "    # Draw vertical gridlines every 50 pixels\n",
    "    for x in range(0, width, 50):\n",
    "        cv2.line(image_with_grid, (x, 0), (x, height), (255, 0, 0), 1)  # Blue vertical lines\n",
    "\n",
    "    # Draw horizontal gridlines every 25 pixels\n",
    "    for y in range(0, height, 25):\n",
    "        cv2.line(image_with_grid, (0, y), (width, y), (255, 0, 0), 1)  # Blue horizontal lines\n",
    "\n",
    "    # Display and save\n",
    "    cv2.imshow('Color Image with Gridlines', image_with_grid)\n",
    "    cv2.waitKey(0)\n",
    "    cv2.destroyAllWindows()\n",
    "    cv2.imwrite('color_with_grid.png', image_with_grid)\n"
   ]
  },
  {
   "cell_type": "code",
   "execution_count": null,
   "id": "5ea5dcd7",
   "metadata": {},
   "outputs": [],
   "source": []
  }
 ],
 "metadata": {
  "kernelspec": {
   "display_name": "base",
   "language": "python",
   "name": "python3"
  },
  "language_info": {
   "codemirror_mode": {
    "name": "ipython",
    "version": 3
   },
   "file_extension": ".py",
   "mimetype": "text/x-python",
   "name": "python",
   "nbconvert_exporter": "python",
   "pygments_lexer": "ipython3",
   "version": "3.12.7"
  }
 },
 "nbformat": 4,
 "nbformat_minor": 5
}
