{
 "cells": [
  {
   "cell_type": "markdown",
   "id": "c20d427c",
   "metadata": {},
   "source": [
    "# image Processing\n",
    "### Load Image"
   ]
  },
  {
   "cell_type": "code",
   "execution_count": 1,
   "id": "1dc70664",
   "metadata": {},
   "outputs": [
    {
     "name": "stderr",
     "output_type": "stream",
     "text": [
      "<>:4: SyntaxWarning: invalid escape sequence '\\9'\n",
      "<>:4: SyntaxWarning: invalid escape sequence '\\9'\n",
      "C:\\Users\\ok\\AppData\\Local\\Temp\\ipykernel_23700\\1145414926.py:4: SyntaxWarning: invalid escape sequence '\\9'\n",
      "  image = cv2.imread('rose\\99383371_37a5ac12a3_n.jpg')\n"
     ]
    },
    {
     "name": "stdout",
     "output_type": "stream",
     "text": [
      "Image read successfully.\n"
     ]
    }
   ],
   "source": [
    "import cv2\n",
    "import numpy as np\n",
    "\n",
    "image = cv2.imread('rose\\99383371_37a5ac12a3_n.jpg') # Load the image\n",
    "if image is None:\n",
    "    print(\"Error: Could not read the image.\")\n",
    "else:\n",
    "    print(\"Image read successfully.\")"
   ]
  },
  {
   "cell_type": "markdown",
   "id": "adaef883",
   "metadata": {},
   "source": [
    "### image show \n",
    "  - imshow\n",
    "  - waitkey\n",
    "  - destroy"
   ]
  },
  {
   "cell_type": "code",
   "execution_count": null,
   "id": "04f1cd8e",
   "metadata": {},
   "outputs": [],
   "source": [
    "cv2.imshow('Image', image) # Display the image in a window\n",
    "cv2.waitKey(0) # Wait for a key press\n",
    "cv2.destroyAllWindows() # Close all OpenCV windows"
   ]
  },
  {
   "cell_type": "markdown",
   "id": "05a67b2a",
   "metadata": {},
   "source": [
    "### image save "
   ]
  },
  {
   "cell_type": "code",
   "execution_count": 6,
   "id": "55120da3",
   "metadata": {},
   "outputs": [
    {
     "name": "stdout",
     "output_type": "stream",
     "text": [
      "Image saved successfully.\n"
     ]
    }
   ],
   "source": [
    "cv2.imwrite('output_image.jpg', image) # Save the image to a file\n",
    "if cv2.imwrite('output_image.jpg', image):\n",
    "    print(\"Image saved successfully.\")\n",
    "else:\n",
    "    print(\"Error: Could not save the image.\")"
   ]
  },
  {
   "cell_type": "markdown",
   "id": "4a0da3f5",
   "metadata": {},
   "source": [
    "### image dimensions"
   ]
  },
  {
   "cell_type": "code",
   "execution_count": 7,
   "id": "d9e047da",
   "metadata": {},
   "outputs": [
    {
     "name": "stdout",
     "output_type": "stream",
     "text": [
      "Image dimensions: 320x229, Channels: 3\n"
     ]
    }
   ],
   "source": [
    "if image is not None:\n",
    "    height, width, channels = image.shape # Get the dimensions of the image\n",
    "    print(f\"Image dimensions: {width}x{height}, Channels: {channels}\")"
   ]
  },
  {
   "cell_type": "code",
   "execution_count": 9,
   "id": "b7758cb3",
   "metadata": {},
   "outputs": [],
   "source": [
    "# Convert the image to grayscale\n",
    "grey_image = cv2.cvtColor(image, cv2.COLOR_BGR2GRAY) # Convert to grayscale\n",
    "cv2.imshow('Grayscale Image', grey_image) # Display the grayscale image\n",
    "cv2.waitKey(0) # Wait for a key press\n",
    "cv2.destroyAllWindows() # Close all OpenCV windows"
   ]
  },
  {
   "cell_type": "code",
   "execution_count": 10,
   "id": "a42d5e1d",
   "metadata": {},
   "outputs": [
    {
     "name": "stdout",
     "output_type": "stream",
     "text": [
      "Grayscale image saved successfully.\n"
     ]
    }
   ],
   "source": [
    "if grey_image is not None:\n",
    "    cv2.imwrite('output_grey_image.jpg', grey_image) # Save the grayscale image\n",
    "    print(\"Grayscale image saved successfully.\")"
   ]
  },
  {
   "cell_type": "markdown",
   "id": "4206c26b",
   "metadata": {},
   "source": [
    "### Resizing & Scaling images \n",
    " - cv2.resize()\n",
    " in resizing first come width and then hights "
   ]
  },
  {
   "cell_type": "code",
   "execution_count": 16,
   "id": "d2f7bdb4",
   "metadata": {},
   "outputs": [
    {
     "name": "stdout",
     "output_type": "stream",
     "text": [
      "Image found, proceeding with resizing...\n"
     ]
    },
    {
     "data": {
      "text/plain": [
       "True"
      ]
     },
     "execution_count": 16,
     "metadata": {},
     "output_type": "execute_result"
    }
   ],
   "source": [
    "if image is None:\n",
    "    print(\"Image not found\")\n",
    "else:\n",
    "    print(\"Image found, proceeding with resizing...\")\n",
    "resized_image = cv2.resize(image, (600, 500)) # Resize the image to 300x300 pixels\n",
    "cv2.imshow('Original Image', image) # Display the original image\n",
    "cv2.imshow('Resized Image', resized_image) # Display the resized image\n",
    "cv2.waitKey(0) # Wait for a key press\n",
    "cv2.destroyAllWindows() # Close all OpenCV windows\n",
    "cv2.imwrite('output_resized_image.png', resized_image) # Save the resized image\n"
   ]
  },
  {
   "cell_type": "markdown",
   "id": "818200a6",
   "metadata": {},
   "source": [
    "### Croping images using slicing in opencv"
   ]
  },
  {
   "cell_type": "code",
   "execution_count": 19,
   "id": "f44bfa0c",
   "metadata": {},
   "outputs": [
    {
     "name": "stdout",
     "output_type": "stream",
     "text": [
      "Cropped image saved successfully.\n"
     ]
    }
   ],
   "source": [
    "if image is not None:\n",
    "    cropped_image = image[100:400, 200:500] # Crop the image using slicing(startx, endx, starty, endy)\n",
    "    cv2.imshow('Original Image', image) # Display the original image\n",
    "    cv2.imshow('Cropped Image', cropped_image) # Display the cropped image\n",
    "    cv2.waitKey(0) # Wait for a key press\n",
    "    cv2.imwrite('output_cropped_image.jpg', cropped_image) # Save the cropped image\n",
    "    print(\"Cropped image saved successfully.\")"
   ]
  },
  {
   "cell_type": "markdown",
   "id": "bc8956fb",
   "metadata": {},
   "source": [
    "### image Rotating and Flipping "
   ]
  },
  {
   "cell_type": "code",
   "execution_count": null,
   "id": "52776487",
   "metadata": {},
   "outputs": [],
   "source": [
    "if image is None:\n",
    "    print(\"Image not found\")\n",
    "else:\n",
    "    (height, width) = image.shape[:2]\n",
    "    center = (width // 2, height // 2)\n",
    "    M = cv2.getRotationMatrix2D(center, 45, 1.0) # Rotate the image by 45 degrees\n",
    "    rotated_image = cv2.warpAffine(image, M, (width, height))\n",
    "    cv2.imshow('Original Image', image) # Display the original image\n",
    "    cv2.imshow('Rotated Image', rotated_image) # Display the rotated image\n",
    "    cv2.waitKey(0) # Wait for a key press\n",
    "    cv2.destroyAllWindows()\n",
    "    cv2.imwrite('output_rotated_image.jpg', rotated_image) # Save the rotated image"
   ]
  },
  {
   "cell_type": "code",
   "execution_count": 21,
   "id": "add50343",
   "metadata": {},
   "outputs": [
    {
     "name": "stdout",
     "output_type": "stream",
     "text": [
      "Flipped image saved successfully.\n"
     ]
    }
   ],
   "source": [
    "# image Flipping \n",
    "if image is not None:\n",
    "    flipped_image = cv2.flip(image, 1) # Flip the image horizontally\n",
    "    cv2.imshow('Original Image', image) # Display the original image\n",
    "    cv2.imshow('Flipped Image', flipped_image) # Display the flipped image\n",
    "    cv2.waitKey(0) # Wait for a key press\n",
    "    cv2.destroyAllWindows()\n",
    "    cv2.imwrite('output_flipped_image.jpg', flipped_image) # Save the flipped image\n",
    "    print(\"Flipped image saved successfully.\")"
   ]
  }
 ],
 "metadata": {
  "kernelspec": {
   "display_name": "base",
   "language": "python",
   "name": "python3"
  },
  "language_info": {
   "codemirror_mode": {
    "name": "ipython",
    "version": 3
   },
   "file_extension": ".py",
   "mimetype": "text/x-python",
   "name": "python",
   "nbconvert_exporter": "python",
   "pygments_lexer": "ipython3",
   "version": "3.12.7"
  }
 },
 "nbformat": 4,
 "nbformat_minor": 5
}
