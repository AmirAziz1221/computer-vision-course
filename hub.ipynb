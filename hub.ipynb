{
  "cells": [
    {
      "cell_type": "markdown",
      "metadata": {
        "id": "FIzICjaph_Wy"
      },
      "source": [
        "<a align=\"center\" href=\"https://ultralytics.com/hub\" target=\"_blank\">\n",
        "<img width=\"1024\", src=\"https://github.com/ultralytics/assets/raw/main/im/ultralytics-hub.png\"></a>\n",
        "\n",
        "<div align=\"center\">\n",
        "\n",
        "[中文](https://docs.ultralytics.com/zh/hub/) | [한국어](https://docs.ultralytics.com/ko/hub/) | [日本語](https://docs.ultralytics.com/ja/hub/) | [Русский](https://docs.ultralytics.com/ru/hub/) | [Deutsch](https://docs.ultralytics.com/de/hub/) | [Français](https://docs.ultralytics.com/fr/hub/) | [Español](https://docs.ultralytics.com/es/hub/) | [Português](https://docs.ultralytics.com/pt/hub/) | [Türkçe](https://docs.ultralytics.com/tr/hub/) | [Tiếng Việt](https://docs.ultralytics.com/vi/hub/) | [العربية](https://docs.ultralytics.com/ar/hub/)\n",
        "\n",
        "  <a href=\"https://github.com/ultralytics/hub/actions/workflows/ci.yml\"><img src=\"https://github.com/ultralytics/hub/actions/workflows/ci.yml/badge.svg\" alt=\"CI CPU\"></a>\n",
        "  <a href=\"https://colab.research.google.com/github/ultralytics/hub/blob/main/hub.ipynb\"><img src=\"https://colab.research.google.com/assets/colab-badge.svg\" alt=\"Open In Colab\"></a>\n",
        "\n",
        "  <a href=\"https://ultralytics.com/discord\"><img alt=\"Discord\" src=\"https://img.shields.io/discord/1089800235347353640?logo=discord&logoColor=white&label=Discord&color=blue\"></a>\n",
        "  <a href=\"https://community.ultralytics.com\"><img alt=\"Ultralytics Forums\" src=\"https://img.shields.io/discourse/users?server=https%3A%2F%2Fcommunity.ultralytics.com&logo=discourse&label=Forums&color=blue\"></a>\n",
        "  <a href=\"https://reddit.com/r/ultralytics\"><img alt=\"Ultralytics Reddit\" src=\"https://img.shields.io/reddit/subreddit-subscribers/ultralytics?style=flat&logo=reddit&logoColor=white&label=Reddit&color=blue\"></a>\n",
        "\n",
        "Welcome to the [Ultralytics](https://ultralytics.com/) HUB notebook!\n",
        "\n",
        "This notebook allows you to train Ultralytics [YOLO](https://github.com/ultralytics/ultralytics) 🚀 models using [HUB](https://hub.ultralytics.com/). Please browse the HUB <a href=\"https://docs.ultralytics.com/hub/\">Docs</a> for details, raise an issue on <a href=\"https://github.com/ultralytics/hub/issues/new/choose\">GitHub</a> for support, and join our <a href=\"https://ultralytics.com/discord\">Discord</a> community for questions and discussions!\n",
        "</div>"
      ]
    },
    {
      "cell_type": "markdown",
      "metadata": {
        "id": "eRQ2ow94MiOv"
      },
      "source": [
        "# Setup\n",
        "\n",
        "Pip install `ultralytics` and [dependencies](https://github.com/ultralytics/ultralytics/blob/main/pyproject.toml) and check software and hardware.\n",
        "\n",
        "[![PyPI - Version](https://img.shields.io/pypi/v/ultralytics?logo=pypi&logoColor=white)](https://pypi.org/project/ultralytics/) [![Downloads](https://static.pepy.tech/badge/ultralytics)](https://www.pepy.tech/projects/ultralytics) [![PyPI - Python Version](https://img.shields.io/pypi/pyversions/ultralytics?logo=python&logoColor=gold)](https://pypi.org/project/ultralytics/)"
      ]
    },
    {
      "cell_type": "code",
      "execution_count": 2,
      "metadata": {
        "colab": {
          "base_uri": "https://localhost:8080/"
        },
        "id": "FyDnXd-n4c7Y",
        "outputId": "f247a605-9e4f-4131-d643-b798dcab3119"
      },
      "outputs": [
        {
          "output_type": "stream",
          "name": "stdout",
          "text": [
            "Ultralytics 8.3.78 🚀 Python-3.11.11 torch-2.5.1+cu124 CUDA:0 (Tesla T4, 15095MiB)\n",
            "Setup complete ✅ (2 CPUs, 12.7 GB RAM, 33.2/112.6 GB disk)\n"
          ]
        }
      ],
      "source": [
        "%pip install ultralytics  # install\n",
        "from ultralytics import YOLO, checks, hub\n",
        "\n",
        "checks()  # checks"
      ]
    },
    {
      "cell_type": "markdown",
      "metadata": {
        "id": "cQ9BwaAqxAm4"
      },
      "source": [
        "# Start\n",
        "\n",
        "⚡ Login with your API key, load your YOLO 🚀 model, and start training in 3 lines of code!"
      ]
    },
    {
      "cell_type": "code",
      "source": [
        "from ultralytics import YOLO\n",
        "from ultralytics.hub import login\n",
        "\n",
        "# Login to Ultralytics HUB\n",
        "hub.login('48310fb975d1b0a23d2c6efa07ff3e714a825e1591')\n",
        "\n",
        "# Load the trained model\n",
        "model = YOLO('https://hub.ultralytics.com/models/bo1n4qt5IUR7btlgn5z1')\n",
        "\n",
        "# Resume training from the last checkpoint\n",
        "results = model.train(resume=True)\n"
      ],
      "metadata": {
        "colab": {
          "base_uri": "https://localhost:8080/"
        },
        "id": "dlUtpmpK-Ee4",
        "outputId": "ef3734af-9916-4a1b-a6e1-6e7c1a9909c5"
      },
      "execution_count": 3,
      "outputs": [
        {
          "metadata": {
            "tags": null
          },
          "name": "stdout",
          "output_type": "stream",
          "text": [
            "\u001b[31m\u001b[1mrequirements:\u001b[0m Ultralytics requirement ['hub-sdk>=0.0.12'] not found, attempting AutoUpdate...\n",
            "Collecting hub-sdk>=0.0.12\n",
            "  Downloading hub_sdk-0.0.18-py3-none-any.whl.metadata (10 kB)\n",
            "Requirement already satisfied: requests in /usr/local/lib/python3.11/dist-packages (from hub-sdk>=0.0.12) (2.32.3)\n",
            "Requirement already satisfied: charset-normalizer<4,>=2 in /usr/local/lib/python3.11/dist-packages (from requests->hub-sdk>=0.0.12) (3.4.1)\n",
            "Requirement already satisfied: idna<4,>=2.5 in /usr/local/lib/python3.11/dist-packages (from requests->hub-sdk>=0.0.12) (3.10)\n",
            "Requirement already satisfied: urllib3<3,>=1.21.1 in /usr/local/lib/python3.11/dist-packages (from requests->hub-sdk>=0.0.12) (2.3.0)\n",
            "Requirement already satisfied: certifi>=2017.4.17 in /usr/local/lib/python3.11/dist-packages (from requests->hub-sdk>=0.0.12) (2025.1.31)\n",
            "Downloading hub_sdk-0.0.18-py3-none-any.whl (42 kB)\n",
            "   ━━━━━━━━━━━━━━━━━━━━━━━━━━━━━━━━━━━━━━━━ 42.9/42.9 kB 5.2 MB/s eta 0:00:00\n",
            "Installing collected packages: hub-sdk\n",
            "Successfully installed hub-sdk-0.0.18\n",
            "\n",
            "\u001b[31m\u001b[1mrequirements:\u001b[0m AutoUpdate success ✅ 2.6s, installed 1 package: ['hub-sdk>=0.0.12']\n",
            "\u001b[31m\u001b[1mrequirements:\u001b[0m ⚠️ \u001b[1mRestart runtime or rerun command for updates to take effect\u001b[0m\n",
            "\n",
            "\u001b[34m\u001b[1mUltralytics HUB: \u001b[0mNew authentication successful ✅\n",
            "\u001b[34m\u001b[1mUltralytics HUB: \u001b[0mView model at https://hub.ultralytics.com/models/bo1n4qt5IUR7btlgn5z1 🚀\n",
            "Downloading https://storage.googleapis.com/ultralytics-hub.appspot.com/users/Nj9w6H5S4vgdhdGujZDsLUDFT0L2/models/bo1n4qt5IUR7btlgn5z1/epoch-89.pt to 'weights/epoch-89.pt'...\n"
          ]
        },
        {
          "metadata": {
            "tags": null
          },
          "name": "stderr",
          "output_type": "stream",
          "text": [
            "100%|██████████| 10.3M/10.3M [00:01<00:00, 7.96MB/s]\n"
          ]
        },
        {
          "metadata": {
            "tags": null
          },
          "name": "stdout",
          "output_type": "stream",
          "text": [
            "WARNING ⚠️ using HUB training arguments, ignoring local training arguments.\n",
            "Ultralytics 8.3.78 🚀 Python-3.11.11 torch-2.5.1+cu124 CUDA:0 (Tesla T4, 15095MiB)\n",
            "\u001b[34m\u001b[1mengine/trainer: \u001b[0mtask=detect, mode=train, model=weights/epoch-89.pt, data=https://storage.googleapis.com/ultralytics-hub.appspot.com/users/Nj9w6H5S4vgdhdGujZDsLUDFT0L2/datasets/4GvgAB9XppXH4bP87mAh/Pakistani Vehicle Dataset.zip, epochs=100, time=None, patience=100, batch=104, imgsz=640, save=True, save_period=-1, cache=None, device=None, workers=8, project=None, name=train, exist_ok=False, pretrained=True, optimizer=auto, verbose=True, seed=0, deterministic=True, single_cls=False, rect=False, cos_lr=False, close_mosaic=10, resume=weights/epoch-89.pt, amp=True, fraction=1.0, profile=False, freeze=None, multi_scale=False, overlap_mask=True, mask_ratio=4, dropout=0.0, val=True, split=val, save_json=False, save_hybrid=False, conf=None, iou=0.7, max_det=300, half=False, dnn=False, plots=True, source=None, vid_stride=1, stream_buffer=False, visualize=False, augment=False, agnostic_nms=False, classes=None, retina_masks=False, embed=None, show=False, save_frames=False, save_txt=False, save_conf=False, save_crop=False, show_labels=True, show_conf=True, show_boxes=True, line_width=None, format=torchscript, keras=False, optimize=False, int8=False, dynamic=False, simplify=True, opset=None, workspace=None, nms=False, lr0=0.01, lrf=0.01, momentum=0.937, weight_decay=0.0005, warmup_epochs=3.0, warmup_momentum=0.8, warmup_bias_lr=0.0, box=7.5, cls=0.5, dfl=1.5, pose=12.0, kobj=1.0, nbs=64, hsv_h=0.015, hsv_s=0.7, hsv_v=0.4, degrees=0.0, translate=0.1, scale=0.5, shear=0.0, perspective=0.0, flipud=0.0, fliplr=0.5, bgr=0.0, mosaic=1.0, mixup=0.0, copy_paste=0.0, copy_paste_mode=flip, auto_augment=randaugment, erasing=0.4, crop_fraction=1.0, cfg=None, tracker=botsort.yaml, save_dir=runs/detect/train\n",
            "Downloading https://storage.googleapis.com/ultralytics-hub.appspot.com/users/Nj9w6H5S4vgdhdGujZDsLUDFT0L2/datasets/4GvgAB9XppXH4bP87mAh/Pakistani Vehicle Dataset.zip to 'Pakistani Vehicle Dataset.zip'...\n"
          ]
        },
        {
          "metadata": {
            "tags": null
          },
          "name": "stderr",
          "output_type": "stream",
          "text": [
            "100%|██████████| 996M/996M [00:39<00:00, 26.6MB/s]\n",
            "Unzipping Pakistani Vehicle Dataset.zip to /content/datasets/Pakistani Vehicle Dataset...: 100%|██████████| 28051/28051 [00:12<00:00, 2178.25file/s]\n"
          ]
        },
        {
          "metadata": {
            "tags": null
          },
          "name": "stdout",
          "output_type": "stream",
          "text": [
            "Downloading https://ultralytics.com/assets/Arial.ttf to '/root/.config/Ultralytics/Arial.ttf'...\n"
          ]
        },
        {
          "metadata": {
            "tags": null
          },
          "name": "stderr",
          "output_type": "stream",
          "text": [
            "100%|██████████| 755k/755k [00:00<00:00, 18.5MB/s]\n"
          ]
        },
        {
          "metadata": {
            "tags": null
          },
          "name": "stdout",
          "output_type": "stream",
          "text": [
            "\u001b[34m\u001b[1mTensorBoard: \u001b[0mStart with 'tensorboard --logdir runs/detect/train', view at http://localhost:6006/\n",
            "\n",
            "                   from  n    params  module                                       arguments                     \n",
            "  0                  -1  1       464  ultralytics.nn.modules.conv.Conv             [3, 16, 3, 2]                 \n",
            "  1                  -1  1      4672  ultralytics.nn.modules.conv.Conv             [16, 32, 3, 2]                \n",
            "  2                  -1  1      6640  ultralytics.nn.modules.block.C3k2            [32, 64, 1, False, 0.25]      \n",
            "  3                  -1  1     36992  ultralytics.nn.modules.conv.Conv             [64, 64, 3, 2]                \n",
            "  4                  -1  1     26080  ultralytics.nn.modules.block.C3k2            [64, 128, 1, False, 0.25]     \n",
            "  5                  -1  1    147712  ultralytics.nn.modules.conv.Conv             [128, 128, 3, 2]              \n",
            "  6                  -1  1     87040  ultralytics.nn.modules.block.C3k2            [128, 128, 1, True]           \n",
            "  7                  -1  1    295424  ultralytics.nn.modules.conv.Conv             [128, 256, 3, 2]              \n",
            "  8                  -1  1    346112  ultralytics.nn.modules.block.C3k2            [256, 256, 1, True]           \n",
            "  9                  -1  1    164608  ultralytics.nn.modules.block.SPPF            [256, 256, 5]                 \n",
            " 10                  -1  1    249728  ultralytics.nn.modules.block.C2PSA           [256, 256, 1]                 \n",
            " 11                  -1  1         0  torch.nn.modules.upsampling.Upsample         [None, 2, 'nearest']          \n",
            " 12             [-1, 6]  1         0  ultralytics.nn.modules.conv.Concat           [1]                           \n",
            " 13                  -1  1    111296  ultralytics.nn.modules.block.C3k2            [384, 128, 1, False]          \n",
            " 14                  -1  1         0  torch.nn.modules.upsampling.Upsample         [None, 2, 'nearest']          \n",
            " 15             [-1, 4]  1         0  ultralytics.nn.modules.conv.Concat           [1]                           \n",
            " 16                  -1  1     32096  ultralytics.nn.modules.block.C3k2            [256, 64, 1, False]           \n",
            " 17                  -1  1     36992  ultralytics.nn.modules.conv.Conv             [64, 64, 3, 2]                \n",
            " 18            [-1, 13]  1         0  ultralytics.nn.modules.conv.Concat           [1]                           \n",
            " 19                  -1  1     86720  ultralytics.nn.modules.block.C3k2            [192, 128, 1, False]          \n",
            " 20                  -1  1    147712  ultralytics.nn.modules.conv.Conv             [128, 128, 3, 2]              \n",
            " 21            [-1, 10]  1         0  ultralytics.nn.modules.conv.Concat           [1]                           \n",
            " 22                  -1  1    378880  ultralytics.nn.modules.block.C3k2            [384, 256, 1, True]           \n",
            " 23        [16, 19, 22]  1    431842  ultralytics.nn.modules.head.Detect           [6, [64, 128, 256]]           \n",
            "YOLO11n summary: 181 layers, 2,591,010 parameters, 2,590,994 gradients, 6.4 GFLOPs\n",
            "\n",
            "Transferred 499/499 items from pretrained weights\n",
            "Freezing layer 'model.23.dfl.conv.weight'\n",
            "\u001b[34m\u001b[1mAMP: \u001b[0mrunning Automatic Mixed Precision (AMP) checks...\n",
            "Downloading https://github.com/ultralytics/assets/releases/download/v8.3.0/yolo11n.pt to 'yolo11n.pt'...\n"
          ]
        },
        {
          "metadata": {
            "tags": null
          },
          "name": "stderr",
          "output_type": "stream",
          "text": [
            "100%|██████████| 5.35M/5.35M [00:00<00:00, 114MB/s]\n"
          ]
        },
        {
          "metadata": {
            "tags": null
          },
          "name": "stdout",
          "output_type": "stream",
          "text": [
            "\u001b[34m\u001b[1mAMP: \u001b[0mchecks passed ✅\n"
          ]
        },
        {
          "metadata": {
            "tags": null
          },
          "name": "stderr",
          "output_type": "stream",
          "text": [
            "\u001b[34m\u001b[1mtrain: \u001b[0mScanning /content/datasets/Pakistani Vehicle Dataset/train/labels... 12273 images, 1482 backgrounds, 0 corrupt: 100%|██████████| 12273/12273 [00:05<00:00, 2221.59it/s]\n"
          ]
        },
        {
          "metadata": {
            "tags": null
          },
          "name": "stdout",
          "output_type": "stream",
          "text": [
            "\u001b[34m\u001b[1mtrain: \u001b[0mNew cache created: /content/datasets/Pakistani Vehicle Dataset/train/labels.cache\n",
            "WARNING ⚠️ Box and segment counts should be equal, but got len(segments) = 1866, len(boxes) = 22229. To resolve this only boxes will be used and all segments will be removed. To avoid this please supply either a detect or segment dataset, not a detect-segment mixed dataset.\n",
            "\u001b[34m\u001b[1malbumentations: \u001b[0mBlur(p=0.01, blur_limit=(3, 7)), MedianBlur(p=0.01, blur_limit=(3, 7)), ToGray(p=0.01, num_output_channels=3, method='weighted_average'), CLAHE(p=0.01, clip_limit=(1.0, 4.0), tile_grid_size=(8, 8))\n"
          ]
        },
        {
          "metadata": {
            "tags": null
          },
          "name": "stderr",
          "output_type": "stream",
          "text": [
            "\u001b[34m\u001b[1mval: \u001b[0mScanning /content/datasets/Pakistani Vehicle Dataset/valid/labels... 1167 images, 64 backgrounds, 0 corrupt: 100%|██████████| 1167/1167 [00:01<00:00, 1000.50it/s]"
          ]
        },
        {
          "metadata": {
            "tags": null
          },
          "name": "stdout",
          "output_type": "stream",
          "text": [
            "\u001b[34m\u001b[1mval: \u001b[0mNew cache created: /content/datasets/Pakistani Vehicle Dataset/valid/labels.cache\n",
            "WARNING ⚠️ Box and segment counts should be equal, but got len(segments) = 368, len(boxes) = 2348. To resolve this only boxes will be used and all segments will be removed. To avoid this please supply either a detect or segment dataset, not a detect-segment mixed dataset.\n"
          ]
        },
        {
          "metadata": {
            "tags": null
          },
          "name": "stderr",
          "output_type": "stream",
          "text": [
            "\n"
          ]
        },
        {
          "metadata": {
            "tags": null
          },
          "name": "stdout",
          "output_type": "stream",
          "text": [
            "Plotting labels to runs/detect/train/labels.jpg... \n",
            "\u001b[34m\u001b[1moptimizer:\u001b[0m 'optimizer=auto' found, ignoring 'lr0=0.01' and 'momentum=0.937' and determining best 'optimizer', 'lr0' and 'momentum' automatically... \n",
            "\u001b[34m\u001b[1moptimizer:\u001b[0m SGD(lr=0.01, momentum=0.9) with parameter groups 81 weight(decay=0.0), 88 weight(decay=0.0008125000000000001), 87 bias(decay=0.0)\n",
            "Resuming training weights/epoch-89.pt from epoch 91 to 100 total epochs\n",
            "\u001b[34m\u001b[1mTensorBoard: \u001b[0mmodel graph visualization added ✅\n",
            "Image sizes 640 train, 640 val\n",
            "Using 2 dataloader workers\n",
            "Logging results to \u001b[1mruns/detect/train\u001b[0m\n",
            "Starting training for 100 epochs...\n",
            "Closing dataloader mosaic\n",
            "\u001b[34m\u001b[1malbumentations: \u001b[0mBlur(p=0.01, blur_limit=(3, 7)), MedianBlur(p=0.01, blur_limit=(3, 7)), ToGray(p=0.01, num_output_channels=3, method='weighted_average'), CLAHE(p=0.01, clip_limit=(1.0, 4.0), tile_grid_size=(8, 8))\n",
            "\n",
            "      Epoch    GPU_mem   box_loss   cls_loss   dfl_loss  Instances       Size\n"
          ]
        },
        {
          "metadata": {
            "tags": null
          },
          "name": "stderr",
          "output_type": "stream",
          "text": [
            "     91/100      14.3G     0.6446     0.4305      1.017          1        640: 100%|██████████| 119/119 [03:43<00:00,  1.88s/it]\n",
            "                 Class     Images  Instances      Box(P          R      mAP50  mAP50-95): 100%|██████████| 6/6 [00:22<00:00,  3.68s/it]"
          ]
        },
        {
          "metadata": {
            "tags": null
          },
          "name": "stdout",
          "output_type": "stream",
          "text": [
            "                   all       1167       2348      0.828      0.686      0.761      0.565\n"
          ]
        },
        {
          "metadata": {
            "tags": null
          },
          "name": "stderr",
          "output_type": "stream",
          "text": [
            "\n"
          ]
        },
        {
          "metadata": {
            "tags": null
          },
          "name": "stdout",
          "output_type": "stream",
          "text": [
            "\n",
            "      Epoch    GPU_mem   box_loss   cls_loss   dfl_loss  Instances       Size\n"
          ]
        },
        {
          "metadata": {
            "tags": null
          },
          "name": "stderr",
          "output_type": "stream",
          "text": [
            "     92/100      14.1G     0.6251     0.4492     0.9998          1        640: 100%|██████████| 119/119 [03:52<00:00,  1.95s/it]\n",
            "                 Class     Images  Instances      Box(P          R      mAP50  mAP50-95): 100%|██████████| 6/6 [00:17<00:00,  2.99s/it]"
          ]
        },
        {
          "metadata": {
            "tags": null
          },
          "name": "stdout",
          "output_type": "stream",
          "text": [
            "                   all       1167       2348      0.822      0.684      0.758      0.562\n"
          ]
        },
        {
          "metadata": {
            "tags": null
          },
          "name": "stderr",
          "output_type": "stream",
          "text": [
            "\n"
          ]
        },
        {
          "metadata": {
            "tags": null
          },
          "name": "stdout",
          "output_type": "stream",
          "text": [
            "\n",
            "      Epoch    GPU_mem   box_loss   cls_loss   dfl_loss  Instances       Size\n"
          ]
        },
        {
          "metadata": {
            "tags": null
          },
          "name": "stderr",
          "output_type": "stream",
          "text": [
            "     93/100      14.1G     0.6123     0.4415     0.9894          0        640: 100%|██████████| 119/119 [03:37<00:00,  1.83s/it]\n",
            "                 Class     Images  Instances      Box(P          R      mAP50  mAP50-95): 100%|██████████| 6/6 [00:21<00:00,  3.52s/it]"
          ]
        },
        {
          "metadata": {
            "tags": null
          },
          "name": "stdout",
          "output_type": "stream",
          "text": [
            "                   all       1167       2348      0.828      0.677      0.757      0.562\n"
          ]
        },
        {
          "metadata": {
            "tags": null
          },
          "name": "stderr",
          "output_type": "stream",
          "text": [
            "\n"
          ]
        },
        {
          "metadata": {
            "tags": null
          },
          "name": "stdout",
          "output_type": "stream",
          "text": [
            "\n",
            "      Epoch    GPU_mem   box_loss   cls_loss   dfl_loss  Instances       Size\n"
          ]
        },
        {
          "metadata": {
            "tags": null
          },
          "name": "stderr",
          "output_type": "stream",
          "text": [
            "     94/100        14G     0.6033     0.4324     0.9804          0        640: 100%|██████████| 119/119 [03:21<00:00,  1.70s/it]\n",
            "                 Class     Images  Instances      Box(P          R      mAP50  mAP50-95): 100%|██████████| 6/6 [00:14<00:00,  2.37s/it]"
          ]
        },
        {
          "metadata": {
            "tags": null
          },
          "name": "stdout",
          "output_type": "stream",
          "text": [
            "                   all       1167       2348       0.83      0.673      0.755      0.562\n"
          ]
        },
        {
          "metadata": {
            "tags": null
          },
          "name": "stderr",
          "output_type": "stream",
          "text": [
            "\n"
          ]
        },
        {
          "metadata": {
            "tags": null
          },
          "name": "stdout",
          "output_type": "stream",
          "text": [
            "\u001b[34m\u001b[1mUltralytics HUB: \u001b[0mUploading checkpoint https://hub.ultralytics.com/models/bo1n4qt5IUR7btlgn5z1\n",
            "\n",
            "      Epoch    GPU_mem   box_loss   cls_loss   dfl_loss  Instances       Size\n"
          ]
        },
        {
          "metadata": {
            "tags": null
          },
          "name": "stderr",
          "output_type": "stream",
          "text": [
            "     95/100      14.2G     0.6085      0.392     0.9874          1        640: 100%|██████████| 119/119 [03:20<00:00,  1.69s/it]\n",
            "                 Class     Images  Instances      Box(P          R      mAP50  mAP50-95): 100%|██████████| 6/6 [00:14<00:00,  2.37s/it]"
          ]
        },
        {
          "metadata": {
            "tags": null
          },
          "name": "stdout",
          "output_type": "stream",
          "text": [
            "                   all       1167       2348      0.819       0.68      0.754      0.562\n"
          ]
        },
        {
          "metadata": {
            "tags": null
          },
          "name": "stderr",
          "output_type": "stream",
          "text": [
            "\n"
          ]
        },
        {
          "metadata": {
            "tags": null
          },
          "name": "stdout",
          "output_type": "stream",
          "text": [
            "\n",
            "      Epoch    GPU_mem   box_loss   cls_loss   dfl_loss  Instances       Size\n"
          ]
        },
        {
          "metadata": {
            "tags": null
          },
          "name": "stderr",
          "output_type": "stream",
          "text": [
            "     96/100        14G     0.5896     0.4207     0.9742          0        640: 100%|██████████| 119/119 [03:17<00:00,  1.66s/it]\n",
            "                 Class     Images  Instances      Box(P          R      mAP50  mAP50-95): 100%|██████████| 6/6 [00:14<00:00,  2.40s/it]"
          ]
        },
        {
          "metadata": {
            "tags": null
          },
          "name": "stdout",
          "output_type": "stream",
          "text": [
            "                   all       1167       2348      0.823      0.681      0.754      0.562\n"
          ]
        },
        {
          "metadata": {
            "tags": null
          },
          "name": "stderr",
          "output_type": "stream",
          "text": [
            "\n"
          ]
        },
        {
          "metadata": {
            "tags": null
          },
          "name": "stdout",
          "output_type": "stream",
          "text": [
            "\n",
            "      Epoch    GPU_mem   box_loss   cls_loss   dfl_loss  Instances       Size\n"
          ]
        },
        {
          "metadata": {
            "tags": null
          },
          "name": "stderr",
          "output_type": "stream",
          "text": [
            "     97/100      14.1G      0.594     0.3825     0.9864          1        640: 100%|██████████| 119/119 [03:21<00:00,  1.69s/it]\n",
            "                 Class     Images  Instances      Box(P          R      mAP50  mAP50-95): 100%|██████████| 6/6 [00:11<00:00,  1.97s/it]"
          ]
        },
        {
          "metadata": {
            "tags": null
          },
          "name": "stdout",
          "output_type": "stream",
          "text": [
            "                   all       1167       2348      0.824       0.68      0.752       0.56\n"
          ]
        },
        {
          "metadata": {
            "tags": null
          },
          "name": "stderr",
          "output_type": "stream",
          "text": [
            "\n"
          ]
        },
        {
          "metadata": {
            "tags": null
          },
          "name": "stdout",
          "output_type": "stream",
          "text": [
            "\n",
            "      Epoch    GPU_mem   box_loss   cls_loss   dfl_loss  Instances       Size\n"
          ]
        },
        {
          "metadata": {
            "tags": null
          },
          "name": "stderr",
          "output_type": "stream",
          "text": [
            "     98/100      14.3G     0.5905     0.3787     0.9987          1        640: 100%|██████████| 119/119 [03:18<00:00,  1.67s/it]\n",
            "                 Class     Images  Instances      Box(P          R      mAP50  mAP50-95): 100%|██████████| 6/6 [00:12<00:00,  2.10s/it]"
          ]
        },
        {
          "metadata": {
            "tags": null
          },
          "name": "stdout",
          "output_type": "stream",
          "text": [
            "                   all       1167       2348      0.834      0.675      0.751      0.561\n"
          ]
        },
        {
          "metadata": {
            "tags": null
          },
          "name": "stderr",
          "output_type": "stream",
          "text": [
            "\n"
          ]
        },
        {
          "metadata": {
            "tags": null
          },
          "name": "stdout",
          "output_type": "stream",
          "text": [
            "\n",
            "      Epoch    GPU_mem   box_loss   cls_loss   dfl_loss  Instances       Size\n"
          ]
        },
        {
          "metadata": {
            "tags": null
          },
          "name": "stderr",
          "output_type": "stream",
          "text": [
            "     99/100      13.6G     0.5801     0.3758     0.9839          1        640: 100%|██████████| 119/119 [03:17<00:00,  1.66s/it]\n",
            "                 Class     Images  Instances      Box(P          R      mAP50  mAP50-95): 100%|██████████| 6/6 [00:12<00:00,  2.10s/it]"
          ]
        },
        {
          "metadata": {
            "tags": null
          },
          "name": "stdout",
          "output_type": "stream",
          "text": [
            "                   all       1167       2348      0.839      0.675      0.752      0.561\n"
          ]
        },
        {
          "metadata": {
            "tags": null
          },
          "name": "stderr",
          "output_type": "stream",
          "text": [
            "\n"
          ]
        },
        {
          "metadata": {
            "tags": null
          },
          "name": "stdout",
          "output_type": "stream",
          "text": [
            "\u001b[34m\u001b[1mUltralytics HUB: \u001b[0mUploading checkpoint https://hub.ultralytics.com/models/bo1n4qt5IUR7btlgn5z1\n",
            "\n",
            "      Epoch    GPU_mem   box_loss   cls_loss   dfl_loss  Instances       Size\n"
          ]
        },
        {
          "output_type": "stream",
          "name": "stderr",
          "text": [
            "    100/100      14.1G     0.5708     0.4323     0.9637          0        640: 100%|██████████| 119/119 [03:17<00:00,  1.66s/it]\n",
            "                 Class     Images  Instances      Box(P          R      mAP50  mAP50-95): 100%|██████████| 6/6 [00:12<00:00,  2.09s/it]"
          ]
        },
        {
          "output_type": "stream",
          "name": "stdout",
          "text": [
            "                   all       1167       2348      0.838      0.676      0.753       0.56\n"
          ]
        },
        {
          "output_type": "stream",
          "name": "stderr",
          "text": [
            "\n"
          ]
        },
        {
          "output_type": "stream",
          "name": "stdout",
          "text": [
            "\n",
            "10 epochs completed in 0.624 hours.\n",
            "Optimizer stripped from runs/detect/train/weights/last.pt, 5.5MB\n",
            "\u001b[34m\u001b[1mUltralytics HUB: \u001b[0mSyncing final model...\n",
            "\u001b[34m\u001b[1mUltralytics HUB: \u001b[0m WARNING ⚠️ Model 'best.pt' not found, copying 'last.pt' to 'best.pt' and uploading. This often happens when resuming training in transient environments like Google Colab. For more reliable training, consider using Ultralytics HUB Cloud. Learn more at https://docs.ultralytics.com/hub/cloud-training.\n"
          ]
        },
        {
          "output_type": "stream",
          "name": "stderr",
          "text": [
            "100%|██████████| 5.21M/5.21M [00:01<00:00, 4.18MB/s]"
          ]
        },
        {
          "output_type": "stream",
          "name": "stdout",
          "text": [
            "\u001b[34m\u001b[1mUltralytics HUB: \u001b[0mDone ✅\n",
            "\u001b[34m\u001b[1mUltralytics HUB: \u001b[0mView model at https://hub.ultralytics.com/models/bo1n4qt5IUR7btlgn5z1 🚀\n"
          ]
        },
        {
          "output_type": "stream",
          "name": "stderr",
          "text": [
            "\n"
          ]
        }
      ]
    },
    {
      "cell_type": "code",
      "source": [
        "from google.colab import drive\n",
        "drive.mount('/content/drive')"
      ],
      "metadata": {
        "id": "0BiuSee5Jeo_",
        "outputId": "5c2f4283-4a41-47be-dde3-5420b4435225",
        "colab": {
          "base_uri": "https://localhost:8080/"
        }
      },
      "execution_count": 8,
      "outputs": [
        {
          "output_type": "stream",
          "name": "stdout",
          "text": [
            "Drive already mounted at /content/drive; to attempt to forcibly remount, call drive.mount(\"/content/drive\", force_remount=True).\n"
          ]
        }
      ]
    },
    {
      "cell_type": "code",
      "source": [
        "from ultralytics import YOLO\n",
        "\n",
        "# Load the model from HUB\n",
        "model = YOLO('https://hub.ultralytics.com/models/bo1n4qt5IUR7btlgn5z1')\n"
      ],
      "metadata": {
        "id": "Ux72vnA6hO1R",
        "outputId": "7ee252be-88dd-4ec2-e160-6af4caf26610",
        "colab": {
          "base_uri": "https://localhost:8080/"
        }
      },
      "execution_count": 7,
      "outputs": [
        {
          "output_type": "stream",
          "name": "stdout",
          "text": [
            "Loading trained HUB model https://hub.ultralytics.com/models/bo1n4qt5IUR7btlgn5z1 🚀\n",
            "Found https://storage.googleapis.com/ultralytics-hub.appspot.com/users/Nj9w6H5S4vgdhdGujZDsLUDFT0L2/models/bo1n4qt5IUR7btlgn5z1/best.pt locally at weights/hub/bo1n4qt5IUR7btlgn5z1/best.pt\n"
          ]
        }
      ]
    },
    {
      "cell_type": "code",
      "source": [
        "import os\n",
        "\n",
        "video_path = \"/content/drive/MyDrive/ITS/Test Videos/testshort.mp4\"\n",
        "\n",
        "# Check if file exists\n",
        "if os.path.exists(video_path):\n",
        "    print(\"File found ✅\")\n",
        "else:\n",
        "    print(\"File NOT found ❌. Check the path again.\")\n"
      ],
      "metadata": {
        "id": "i4Zre5UPKVAx",
        "outputId": "325f0e78-97bc-43f7-a97d-544fcdf9a142",
        "colab": {
          "base_uri": "https://localhost:8080/"
        }
      },
      "execution_count": 11,
      "outputs": [
        {
          "output_type": "stream",
          "name": "stdout",
          "text": [
            "File found ✅\n"
          ]
        }
      ]
    },
    {
      "cell_type": "code",
      "source": [
        "# Define the path to your video\n",
        "video_path = \"/content/drive/MyDrive/ITS/Test Videos/testshort.mp4\" # Update this with your actual video file\n",
        "\n",
        "# Run inference\n",
        "results = model.predict(source=video_path, save=True, conf=0.3)  # Adjust confidence if needed\n",
        "\n",
        "print(\"Inference completed. Check the output folder for results.\")\n"
      ],
      "metadata": {
        "id": "lyxCuf4z6tHI",
        "outputId": "ddd12987-9caa-46da-e9a1-b6ae0efc476d",
        "colab": {
          "base_uri": "https://localhost:8080/"
        }
      },
      "execution_count": 12,
      "outputs": [
        {
          "output_type": "stream",
          "name": "stdout",
          "text": [
            "\n",
            "\n",
            "WARNING ⚠️ inference results will accumulate in RAM unless `stream=True` is passed, causing potential out-of-memory\n",
            "errors for large sources or long-running streams and videos. See https://docs.ultralytics.com/modes/predict/ for help.\n",
            "\n",
            "Example:\n",
            "    results = model(source=..., stream=True)  # generator of Results objects\n",
            "    for r in results:\n",
            "        boxes = r.boxes  # Boxes object for bbox outputs\n",
            "        masks = r.masks  # Masks object for segment masks outputs\n",
            "        probs = r.probs  # Class probabilities for classification outputs\n",
            "\n",
            "video 1/1 (frame 1/542) /content/drive/MyDrive/ITS/Test Videos/testshort.mp4: 384x640 (no detections), 65.3ms\n",
            "video 1/1 (frame 2/542) /content/drive/MyDrive/ITS/Test Videos/testshort.mp4: 384x640 (no detections), 15.9ms\n",
            "video 1/1 (frame 3/542) /content/drive/MyDrive/ITS/Test Videos/testshort.mp4: 384x640 (no detections), 27.4ms\n",
            "video 1/1 (frame 4/542) /content/drive/MyDrive/ITS/Test Videos/testshort.mp4: 384x640 (no detections), 12.0ms\n",
            "video 1/1 (frame 5/542) /content/drive/MyDrive/ITS/Test Videos/testshort.mp4: 384x640 (no detections), 17.0ms\n",
            "video 1/1 (frame 6/542) /content/drive/MyDrive/ITS/Test Videos/testshort.mp4: 384x640 (no detections), 26.7ms\n",
            "video 1/1 (frame 7/542) /content/drive/MyDrive/ITS/Test Videos/testshort.mp4: 384x640 (no detections), 13.0ms\n",
            "video 1/1 (frame 8/542) /content/drive/MyDrive/ITS/Test Videos/testshort.mp4: 384x640 (no detections), 11.9ms\n",
            "video 1/1 (frame 9/542) /content/drive/MyDrive/ITS/Test Videos/testshort.mp4: 384x640 1 htv, 94.4ms\n",
            "video 1/1 (frame 10/542) /content/drive/MyDrive/ITS/Test Videos/testshort.mp4: 384x640 1 htv, 68.4ms\n",
            "video 1/1 (frame 11/542) /content/drive/MyDrive/ITS/Test Videos/testshort.mp4: 384x640 1 htv, 99.3ms\n",
            "video 1/1 (frame 12/542) /content/drive/MyDrive/ITS/Test Videos/testshort.mp4: 384x640 (no detections), 102.5ms\n",
            "video 1/1 (frame 13/542) /content/drive/MyDrive/ITS/Test Videos/testshort.mp4: 384x640 (no detections), 83.8ms\n",
            "video 1/1 (frame 14/542) /content/drive/MyDrive/ITS/Test Videos/testshort.mp4: 384x640 1 htv, 26.5ms\n",
            "video 1/1 (frame 15/542) /content/drive/MyDrive/ITS/Test Videos/testshort.mp4: 384x640 1 htv, 63.3ms\n",
            "video 1/1 (frame 16/542) /content/drive/MyDrive/ITS/Test Videos/testshort.mp4: 384x640 1 htv, 24.5ms\n",
            "video 1/1 (frame 17/542) /content/drive/MyDrive/ITS/Test Videos/testshort.mp4: 384x640 (no detections), 69.7ms\n",
            "video 1/1 (frame 18/542) /content/drive/MyDrive/ITS/Test Videos/testshort.mp4: 384x640 (no detections), 84.7ms\n",
            "video 1/1 (frame 19/542) /content/drive/MyDrive/ITS/Test Videos/testshort.mp4: 384x640 (no detections), 98.3ms\n",
            "video 1/1 (frame 20/542) /content/drive/MyDrive/ITS/Test Videos/testshort.mp4: 384x640 1 htv, 89.4ms\n",
            "video 1/1 (frame 21/542) /content/drive/MyDrive/ITS/Test Videos/testshort.mp4: 384x640 1 htv, 26.6ms\n",
            "video 1/1 (frame 22/542) /content/drive/MyDrive/ITS/Test Videos/testshort.mp4: 384x640 1 htv, 31.1ms\n",
            "video 1/1 (frame 23/542) /content/drive/MyDrive/ITS/Test Videos/testshort.mp4: 384x640 1 htv, 94.8ms\n",
            "video 1/1 (frame 24/542) /content/drive/MyDrive/ITS/Test Videos/testshort.mp4: 384x640 (no detections), 88.5ms\n",
            "video 1/1 (frame 25/542) /content/drive/MyDrive/ITS/Test Videos/testshort.mp4: 384x640 (no detections), 90.0ms\n",
            "video 1/1 (frame 26/542) /content/drive/MyDrive/ITS/Test Videos/testshort.mp4: 384x640 (no detections), 12.2ms\n",
            "video 1/1 (frame 27/542) /content/drive/MyDrive/ITS/Test Videos/testshort.mp4: 384x640 (no detections), 12.0ms\n",
            "video 1/1 (frame 28/542) /content/drive/MyDrive/ITS/Test Videos/testshort.mp4: 384x640 (no detections), 12.4ms\n",
            "video 1/1 (frame 29/542) /content/drive/MyDrive/ITS/Test Videos/testshort.mp4: 384x640 (no detections), 12.5ms\n",
            "video 1/1 (frame 30/542) /content/drive/MyDrive/ITS/Test Videos/testshort.mp4: 384x640 (no detections), 85.7ms\n",
            "video 1/1 (frame 31/542) /content/drive/MyDrive/ITS/Test Videos/testshort.mp4: 384x640 1 htv, 58.9ms\n",
            "video 1/1 (frame 32/542) /content/drive/MyDrive/ITS/Test Videos/testshort.mp4: 384x640 1 htv, 79.8ms\n",
            "video 1/1 (frame 33/542) /content/drive/MyDrive/ITS/Test Videos/testshort.mp4: 384x640 1 htv, 13.1ms\n",
            "video 1/1 (frame 34/542) /content/drive/MyDrive/ITS/Test Videos/testshort.mp4: 384x640 (no detections), 11.2ms\n",
            "video 1/1 (frame 35/542) /content/drive/MyDrive/ITS/Test Videos/testshort.mp4: 384x640 1 htv, 11.6ms\n",
            "video 1/1 (frame 36/542) /content/drive/MyDrive/ITS/Test Videos/testshort.mp4: 384x640 1 htv, 12.1ms\n",
            "video 1/1 (frame 37/542) /content/drive/MyDrive/ITS/Test Videos/testshort.mp4: 384x640 1 htv, 11.4ms\n",
            "video 1/1 (frame 38/542) /content/drive/MyDrive/ITS/Test Videos/testshort.mp4: 384x640 1 htv, 12.5ms\n",
            "video 1/1 (frame 39/542) /content/drive/MyDrive/ITS/Test Videos/testshort.mp4: 384x640 1 htv, 11.9ms\n",
            "video 1/1 (frame 40/542) /content/drive/MyDrive/ITS/Test Videos/testshort.mp4: 384x640 (no detections), 13.2ms\n",
            "video 1/1 (frame 41/542) /content/drive/MyDrive/ITS/Test Videos/testshort.mp4: 384x640 1 htv, 13.3ms\n",
            "video 1/1 (frame 42/542) /content/drive/MyDrive/ITS/Test Videos/testshort.mp4: 384x640 1 htv, 11.2ms\n",
            "video 1/1 (frame 43/542) /content/drive/MyDrive/ITS/Test Videos/testshort.mp4: 384x640 1 htv, 12.7ms\n",
            "video 1/1 (frame 44/542) /content/drive/MyDrive/ITS/Test Videos/testshort.mp4: 384x640 (no detections), 11.4ms\n",
            "video 1/1 (frame 45/542) /content/drive/MyDrive/ITS/Test Videos/testshort.mp4: 384x640 1 htv, 11.9ms\n",
            "video 1/1 (frame 46/542) /content/drive/MyDrive/ITS/Test Videos/testshort.mp4: 384x640 1 htv, 12.4ms\n",
            "video 1/1 (frame 47/542) /content/drive/MyDrive/ITS/Test Videos/testshort.mp4: 384x640 1 htv, 12.6ms\n",
            "video 1/1 (frame 48/542) /content/drive/MyDrive/ITS/Test Videos/testshort.mp4: 384x640 1 htv, 11.5ms\n",
            "video 1/1 (frame 49/542) /content/drive/MyDrive/ITS/Test Videos/testshort.mp4: 384x640 1 htv, 12.7ms\n",
            "video 1/1 (frame 50/542) /content/drive/MyDrive/ITS/Test Videos/testshort.mp4: 384x640 (no detections), 22.1ms\n",
            "video 1/1 (frame 51/542) /content/drive/MyDrive/ITS/Test Videos/testshort.mp4: 384x640 1 htv, 12.8ms\n",
            "video 1/1 (frame 52/542) /content/drive/MyDrive/ITS/Test Videos/testshort.mp4: 384x640 1 htv, 13.5ms\n",
            "video 1/1 (frame 53/542) /content/drive/MyDrive/ITS/Test Videos/testshort.mp4: 384x640 1 htv, 19.9ms\n",
            "video 1/1 (frame 54/542) /content/drive/MyDrive/ITS/Test Videos/testshort.mp4: 384x640 1 htv, 23.8ms\n",
            "video 1/1 (frame 55/542) /content/drive/MyDrive/ITS/Test Videos/testshort.mp4: 384x640 (no detections), 20.8ms\n",
            "video 1/1 (frame 56/542) /content/drive/MyDrive/ITS/Test Videos/testshort.mp4: 384x640 1 htv, 12.7ms\n",
            "video 1/1 (frame 57/542) /content/drive/MyDrive/ITS/Test Videos/testshort.mp4: 384x640 (no detections), 13.0ms\n",
            "video 1/1 (frame 58/542) /content/drive/MyDrive/ITS/Test Videos/testshort.mp4: 384x640 (no detections), 14.7ms\n",
            "video 1/1 (frame 59/542) /content/drive/MyDrive/ITS/Test Videos/testshort.mp4: 384x640 1 htv, 18.8ms\n",
            "video 1/1 (frame 60/542) /content/drive/MyDrive/ITS/Test Videos/testshort.mp4: 384x640 1 htv, 13.2ms\n",
            "video 1/1 (frame 61/542) /content/drive/MyDrive/ITS/Test Videos/testshort.mp4: 384x640 1 htv, 13.6ms\n",
            "video 1/1 (frame 62/542) /content/drive/MyDrive/ITS/Test Videos/testshort.mp4: 384x640 1 htv, 15.3ms\n",
            "video 1/1 (frame 63/542) /content/drive/MyDrive/ITS/Test Videos/testshort.mp4: 384x640 (no detections), 19.6ms\n",
            "video 1/1 (frame 64/542) /content/drive/MyDrive/ITS/Test Videos/testshort.mp4: 384x640 (no detections), 13.7ms\n",
            "video 1/1 (frame 65/542) /content/drive/MyDrive/ITS/Test Videos/testshort.mp4: 384x640 (no detections), 13.1ms\n",
            "video 1/1 (frame 66/542) /content/drive/MyDrive/ITS/Test Videos/testshort.mp4: 384x640 (no detections), 19.3ms\n",
            "video 1/1 (frame 67/542) /content/drive/MyDrive/ITS/Test Videos/testshort.mp4: 384x640 (no detections), 14.0ms\n",
            "video 1/1 (frame 68/542) /content/drive/MyDrive/ITS/Test Videos/testshort.mp4: 384x640 (no detections), 13.6ms\n",
            "video 1/1 (frame 69/542) /content/drive/MyDrive/ITS/Test Videos/testshort.mp4: 384x640 (no detections), 15.4ms\n",
            "video 1/1 (frame 70/542) /content/drive/MyDrive/ITS/Test Videos/testshort.mp4: 384x640 (no detections), 24.8ms\n",
            "video 1/1 (frame 71/542) /content/drive/MyDrive/ITS/Test Videos/testshort.mp4: 384x640 1 htv, 24.0ms\n",
            "video 1/1 (frame 72/542) /content/drive/MyDrive/ITS/Test Videos/testshort.mp4: 384x640 1 htv, 18.3ms\n",
            "video 1/1 (frame 73/542) /content/drive/MyDrive/ITS/Test Videos/testshort.mp4: 384x640 1 htv, 19.9ms\n",
            "video 1/1 (frame 74/542) /content/drive/MyDrive/ITS/Test Videos/testshort.mp4: 384x640 (no detections), 21.8ms\n",
            "video 1/1 (frame 75/542) /content/drive/MyDrive/ITS/Test Videos/testshort.mp4: 384x640 (no detections), 13.6ms\n",
            "video 1/1 (frame 76/542) /content/drive/MyDrive/ITS/Test Videos/testshort.mp4: 384x640 1 htv, 16.4ms\n",
            "video 1/1 (frame 77/542) /content/drive/MyDrive/ITS/Test Videos/testshort.mp4: 384x640 (no detections), 13.6ms\n",
            "video 1/1 (frame 78/542) /content/drive/MyDrive/ITS/Test Videos/testshort.mp4: 384x640 (no detections), 18.4ms\n",
            "video 1/1 (frame 79/542) /content/drive/MyDrive/ITS/Test Videos/testshort.mp4: 384x640 (no detections), 21.7ms\n",
            "video 1/1 (frame 80/542) /content/drive/MyDrive/ITS/Test Videos/testshort.mp4: 384x640 (no detections), 20.2ms\n",
            "video 1/1 (frame 81/542) /content/drive/MyDrive/ITS/Test Videos/testshort.mp4: 384x640 (no detections), 18.0ms\n",
            "video 1/1 (frame 82/542) /content/drive/MyDrive/ITS/Test Videos/testshort.mp4: 384x640 (no detections), 16.7ms\n",
            "video 1/1 (frame 83/542) /content/drive/MyDrive/ITS/Test Videos/testshort.mp4: 384x640 (no detections), 12.8ms\n",
            "video 1/1 (frame 84/542) /content/drive/MyDrive/ITS/Test Videos/testshort.mp4: 384x640 (no detections), 11.0ms\n",
            "video 1/1 (frame 85/542) /content/drive/MyDrive/ITS/Test Videos/testshort.mp4: 384x640 1 htv, 12.4ms\n",
            "video 1/1 (frame 86/542) /content/drive/MyDrive/ITS/Test Videos/testshort.mp4: 384x640 1 htv, 11.5ms\n",
            "video 1/1 (frame 87/542) /content/drive/MyDrive/ITS/Test Videos/testshort.mp4: 384x640 1 htv, 14.4ms\n",
            "video 1/1 (frame 88/542) /content/drive/MyDrive/ITS/Test Videos/testshort.mp4: 384x640 1 htv, 13.5ms\n",
            "video 1/1 (frame 89/542) /content/drive/MyDrive/ITS/Test Videos/testshort.mp4: 384x640 1 htv, 11.5ms\n",
            "video 1/1 (frame 90/542) /content/drive/MyDrive/ITS/Test Videos/testshort.mp4: 384x640 1 htv, 11.7ms\n",
            "video 1/1 (frame 91/542) /content/drive/MyDrive/ITS/Test Videos/testshort.mp4: 384x640 1 htv, 12.7ms\n",
            "video 1/1 (frame 92/542) /content/drive/MyDrive/ITS/Test Videos/testshort.mp4: 384x640 1 htv, 20.9ms\n",
            "video 1/1 (frame 93/542) /content/drive/MyDrive/ITS/Test Videos/testshort.mp4: 384x640 1 htv, 10.8ms\n",
            "video 1/1 (frame 94/542) /content/drive/MyDrive/ITS/Test Videos/testshort.mp4: 384x640 1 htv, 10.7ms\n",
            "video 1/1 (frame 95/542) /content/drive/MyDrive/ITS/Test Videos/testshort.mp4: 384x640 1 htv, 10.9ms\n",
            "video 1/1 (frame 96/542) /content/drive/MyDrive/ITS/Test Videos/testshort.mp4: 384x640 1 htv, 10.6ms\n",
            "video 1/1 (frame 97/542) /content/drive/MyDrive/ITS/Test Videos/testshort.mp4: 384x640 (no detections), 12.7ms\n",
            "video 1/1 (frame 98/542) /content/drive/MyDrive/ITS/Test Videos/testshort.mp4: 384x640 (no detections), 11.2ms\n",
            "video 1/1 (frame 99/542) /content/drive/MyDrive/ITS/Test Videos/testshort.mp4: 384x640 (no detections), 10.6ms\n",
            "video 1/1 (frame 100/542) /content/drive/MyDrive/ITS/Test Videos/testshort.mp4: 384x640 (no detections), 11.6ms\n",
            "video 1/1 (frame 101/542) /content/drive/MyDrive/ITS/Test Videos/testshort.mp4: 384x640 (no detections), 13.6ms\n",
            "video 1/1 (frame 102/542) /content/drive/MyDrive/ITS/Test Videos/testshort.mp4: 384x640 (no detections), 13.5ms\n",
            "video 1/1 (frame 103/542) /content/drive/MyDrive/ITS/Test Videos/testshort.mp4: 384x640 (no detections), 13.7ms\n",
            "video 1/1 (frame 104/542) /content/drive/MyDrive/ITS/Test Videos/testshort.mp4: 384x640 (no detections), 13.8ms\n",
            "video 1/1 (frame 105/542) /content/drive/MyDrive/ITS/Test Videos/testshort.mp4: 384x640 (no detections), 13.0ms\n",
            "video 1/1 (frame 106/542) /content/drive/MyDrive/ITS/Test Videos/testshort.mp4: 384x640 (no detections), 13.5ms\n",
            "video 1/1 (frame 107/542) /content/drive/MyDrive/ITS/Test Videos/testshort.mp4: 384x640 (no detections), 15.2ms\n",
            "video 1/1 (frame 108/542) /content/drive/MyDrive/ITS/Test Videos/testshort.mp4: 384x640 (no detections), 11.3ms\n",
            "video 1/1 (frame 109/542) /content/drive/MyDrive/ITS/Test Videos/testshort.mp4: 384x640 (no detections), 15.5ms\n",
            "video 1/1 (frame 110/542) /content/drive/MyDrive/ITS/Test Videos/testshort.mp4: 384x640 (no detections), 11.3ms\n",
            "video 1/1 (frame 111/542) /content/drive/MyDrive/ITS/Test Videos/testshort.mp4: 384x640 (no detections), 12.7ms\n",
            "video 1/1 (frame 112/542) /content/drive/MyDrive/ITS/Test Videos/testshort.mp4: 384x640 (no detections), 12.8ms\n",
            "video 1/1 (frame 113/542) /content/drive/MyDrive/ITS/Test Videos/testshort.mp4: 384x640 (no detections), 11.8ms\n",
            "video 1/1 (frame 114/542) /content/drive/MyDrive/ITS/Test Videos/testshort.mp4: 384x640 (no detections), 12.0ms\n",
            "video 1/1 (frame 115/542) /content/drive/MyDrive/ITS/Test Videos/testshort.mp4: 384x640 (no detections), 12.2ms\n",
            "video 1/1 (frame 116/542) /content/drive/MyDrive/ITS/Test Videos/testshort.mp4: 384x640 (no detections), 11.9ms\n",
            "video 1/1 (frame 117/542) /content/drive/MyDrive/ITS/Test Videos/testshort.mp4: 384x640 (no detections), 12.1ms\n",
            "video 1/1 (frame 118/542) /content/drive/MyDrive/ITS/Test Videos/testshort.mp4: 384x640 (no detections), 12.2ms\n",
            "video 1/1 (frame 119/542) /content/drive/MyDrive/ITS/Test Videos/testshort.mp4: 384x640 (no detections), 12.3ms\n",
            "video 1/1 (frame 120/542) /content/drive/MyDrive/ITS/Test Videos/testshort.mp4: 384x640 (no detections), 11.3ms\n",
            "video 1/1 (frame 121/542) /content/drive/MyDrive/ITS/Test Videos/testshort.mp4: 384x640 (no detections), 12.0ms\n",
            "video 1/1 (frame 122/542) /content/drive/MyDrive/ITS/Test Videos/testshort.mp4: 384x640 (no detections), 11.2ms\n",
            "video 1/1 (frame 123/542) /content/drive/MyDrive/ITS/Test Videos/testshort.mp4: 384x640 (no detections), 11.5ms\n",
            "video 1/1 (frame 124/542) /content/drive/MyDrive/ITS/Test Videos/testshort.mp4: 384x640 (no detections), 14.5ms\n",
            "video 1/1 (frame 125/542) /content/drive/MyDrive/ITS/Test Videos/testshort.mp4: 384x640 (no detections), 13.3ms\n",
            "video 1/1 (frame 126/542) /content/drive/MyDrive/ITS/Test Videos/testshort.mp4: 384x640 (no detections), 11.5ms\n",
            "video 1/1 (frame 127/542) /content/drive/MyDrive/ITS/Test Videos/testshort.mp4: 384x640 (no detections), 12.0ms\n",
            "video 1/1 (frame 128/542) /content/drive/MyDrive/ITS/Test Videos/testshort.mp4: 384x640 (no detections), 11.9ms\n",
            "video 1/1 (frame 129/542) /content/drive/MyDrive/ITS/Test Videos/testshort.mp4: 384x640 (no detections), 12.6ms\n",
            "video 1/1 (frame 130/542) /content/drive/MyDrive/ITS/Test Videos/testshort.mp4: 384x640 (no detections), 12.3ms\n",
            "video 1/1 (frame 131/542) /content/drive/MyDrive/ITS/Test Videos/testshort.mp4: 384x640 (no detections), 11.7ms\n",
            "video 1/1 (frame 132/542) /content/drive/MyDrive/ITS/Test Videos/testshort.mp4: 384x640 (no detections), 11.4ms\n",
            "video 1/1 (frame 133/542) /content/drive/MyDrive/ITS/Test Videos/testshort.mp4: 384x640 (no detections), 11.8ms\n",
            "video 1/1 (frame 134/542) /content/drive/MyDrive/ITS/Test Videos/testshort.mp4: 384x640 (no detections), 13.0ms\n",
            "video 1/1 (frame 135/542) /content/drive/MyDrive/ITS/Test Videos/testshort.mp4: 384x640 (no detections), 11.6ms\n",
            "video 1/1 (frame 136/542) /content/drive/MyDrive/ITS/Test Videos/testshort.mp4: 384x640 (no detections), 11.1ms\n",
            "video 1/1 (frame 137/542) /content/drive/MyDrive/ITS/Test Videos/testshort.mp4: 384x640 (no detections), 11.1ms\n",
            "video 1/1 (frame 138/542) /content/drive/MyDrive/ITS/Test Videos/testshort.mp4: 384x640 (no detections), 14.3ms\n",
            "video 1/1 (frame 139/542) /content/drive/MyDrive/ITS/Test Videos/testshort.mp4: 384x640 (no detections), 12.0ms\n",
            "video 1/1 (frame 140/542) /content/drive/MyDrive/ITS/Test Videos/testshort.mp4: 384x640 (no detections), 17.0ms\n",
            "video 1/1 (frame 141/542) /content/drive/MyDrive/ITS/Test Videos/testshort.mp4: 384x640 (no detections), 12.1ms\n",
            "video 1/1 (frame 142/542) /content/drive/MyDrive/ITS/Test Videos/testshort.mp4: 384x640 (no detections), 11.7ms\n",
            "video 1/1 (frame 143/542) /content/drive/MyDrive/ITS/Test Videos/testshort.mp4: 384x640 (no detections), 13.0ms\n",
            "video 1/1 (frame 144/542) /content/drive/MyDrive/ITS/Test Videos/testshort.mp4: 384x640 (no detections), 11.6ms\n",
            "video 1/1 (frame 145/542) /content/drive/MyDrive/ITS/Test Videos/testshort.mp4: 384x640 (no detections), 13.8ms\n",
            "video 1/1 (frame 146/542) /content/drive/MyDrive/ITS/Test Videos/testshort.mp4: 384x640 (no detections), 12.1ms\n",
            "video 1/1 (frame 147/542) /content/drive/MyDrive/ITS/Test Videos/testshort.mp4: 384x640 (no detections), 12.1ms\n",
            "video 1/1 (frame 148/542) /content/drive/MyDrive/ITS/Test Videos/testshort.mp4: 384x640 (no detections), 11.8ms\n",
            "video 1/1 (frame 149/542) /content/drive/MyDrive/ITS/Test Videos/testshort.mp4: 384x640 (no detections), 11.8ms\n",
            "video 1/1 (frame 150/542) /content/drive/MyDrive/ITS/Test Videos/testshort.mp4: 384x640 (no detections), 12.6ms\n",
            "video 1/1 (frame 151/542) /content/drive/MyDrive/ITS/Test Videos/testshort.mp4: 384x640 (no detections), 12.7ms\n",
            "video 1/1 (frame 152/542) /content/drive/MyDrive/ITS/Test Videos/testshort.mp4: 384x640 (no detections), 12.5ms\n",
            "video 1/1 (frame 153/542) /content/drive/MyDrive/ITS/Test Videos/testshort.mp4: 384x640 (no detections), 13.0ms\n",
            "video 1/1 (frame 154/542) /content/drive/MyDrive/ITS/Test Videos/testshort.mp4: 384x640 (no detections), 15.9ms\n",
            "video 1/1 (frame 155/542) /content/drive/MyDrive/ITS/Test Videos/testshort.mp4: 384x640 (no detections), 11.7ms\n",
            "video 1/1 (frame 156/542) /content/drive/MyDrive/ITS/Test Videos/testshort.mp4: 384x640 (no detections), 58.9ms\n",
            "video 1/1 (frame 157/542) /content/drive/MyDrive/ITS/Test Videos/testshort.mp4: 384x640 (no detections), 91.3ms\n",
            "video 1/1 (frame 158/542) /content/drive/MyDrive/ITS/Test Videos/testshort.mp4: 384x640 (no detections), 13.1ms\n",
            "video 1/1 (frame 159/542) /content/drive/MyDrive/ITS/Test Videos/testshort.mp4: 384x640 (no detections), 14.8ms\n",
            "video 1/1 (frame 160/542) /content/drive/MyDrive/ITS/Test Videos/testshort.mp4: 384x640 (no detections), 14.9ms\n",
            "video 1/1 (frame 161/542) /content/drive/MyDrive/ITS/Test Videos/testshort.mp4: 384x640 (no detections), 15.3ms\n",
            "video 1/1 (frame 162/542) /content/drive/MyDrive/ITS/Test Videos/testshort.mp4: 384x640 (no detections), 13.7ms\n",
            "video 1/1 (frame 163/542) /content/drive/MyDrive/ITS/Test Videos/testshort.mp4: 384x640 (no detections), 12.0ms\n",
            "video 1/1 (frame 164/542) /content/drive/MyDrive/ITS/Test Videos/testshort.mp4: 384x640 (no detections), 14.2ms\n",
            "video 1/1 (frame 165/542) /content/drive/MyDrive/ITS/Test Videos/testshort.mp4: 384x640 (no detections), 12.2ms\n",
            "video 1/1 (frame 166/542) /content/drive/MyDrive/ITS/Test Videos/testshort.mp4: 384x640 (no detections), 13.9ms\n",
            "video 1/1 (frame 167/542) /content/drive/MyDrive/ITS/Test Videos/testshort.mp4: 384x640 (no detections), 12.3ms\n",
            "video 1/1 (frame 168/542) /content/drive/MyDrive/ITS/Test Videos/testshort.mp4: 384x640 (no detections), 18.4ms\n",
            "video 1/1 (frame 169/542) /content/drive/MyDrive/ITS/Test Videos/testshort.mp4: 384x640 (no detections), 11.8ms\n",
            "video 1/1 (frame 170/542) /content/drive/MyDrive/ITS/Test Videos/testshort.mp4: 384x640 (no detections), 12.6ms\n",
            "video 1/1 (frame 171/542) /content/drive/MyDrive/ITS/Test Videos/testshort.mp4: 384x640 (no detections), 13.7ms\n",
            "video 1/1 (frame 172/542) /content/drive/MyDrive/ITS/Test Videos/testshort.mp4: 384x640 (no detections), 15.8ms\n",
            "video 1/1 (frame 173/542) /content/drive/MyDrive/ITS/Test Videos/testshort.mp4: 384x640 (no detections), 11.7ms\n",
            "video 1/1 (frame 174/542) /content/drive/MyDrive/ITS/Test Videos/testshort.mp4: 384x640 (no detections), 13.5ms\n",
            "video 1/1 (frame 175/542) /content/drive/MyDrive/ITS/Test Videos/testshort.mp4: 384x640 (no detections), 11.7ms\n",
            "video 1/1 (frame 176/542) /content/drive/MyDrive/ITS/Test Videos/testshort.mp4: 384x640 (no detections), 13.6ms\n",
            "video 1/1 (frame 177/542) /content/drive/MyDrive/ITS/Test Videos/testshort.mp4: 384x640 (no detections), 22.4ms\n",
            "video 1/1 (frame 178/542) /content/drive/MyDrive/ITS/Test Videos/testshort.mp4: 384x640 (no detections), 11.8ms\n",
            "video 1/1 (frame 179/542) /content/drive/MyDrive/ITS/Test Videos/testshort.mp4: 384x640 (no detections), 12.6ms\n",
            "video 1/1 (frame 180/542) /content/drive/MyDrive/ITS/Test Videos/testshort.mp4: 384x640 (no detections), 10.9ms\n",
            "video 1/1 (frame 181/542) /content/drive/MyDrive/ITS/Test Videos/testshort.mp4: 384x640 (no detections), 13.5ms\n",
            "video 1/1 (frame 182/542) /content/drive/MyDrive/ITS/Test Videos/testshort.mp4: 384x640 (no detections), 14.0ms\n",
            "video 1/1 (frame 183/542) /content/drive/MyDrive/ITS/Test Videos/testshort.mp4: 384x640 (no detections), 11.2ms\n",
            "video 1/1 (frame 184/542) /content/drive/MyDrive/ITS/Test Videos/testshort.mp4: 384x640 (no detections), 14.0ms\n",
            "video 1/1 (frame 185/542) /content/drive/MyDrive/ITS/Test Videos/testshort.mp4: 384x640 (no detections), 14.5ms\n",
            "video 1/1 (frame 186/542) /content/drive/MyDrive/ITS/Test Videos/testshort.mp4: 384x640 (no detections), 12.7ms\n",
            "video 1/1 (frame 187/542) /content/drive/MyDrive/ITS/Test Videos/testshort.mp4: 384x640 (no detections), 14.0ms\n",
            "video 1/1 (frame 188/542) /content/drive/MyDrive/ITS/Test Videos/testshort.mp4: 384x640 (no detections), 15.4ms\n",
            "video 1/1 (frame 189/542) /content/drive/MyDrive/ITS/Test Videos/testshort.mp4: 384x640 (no detections), 11.3ms\n",
            "video 1/1 (frame 190/542) /content/drive/MyDrive/ITS/Test Videos/testshort.mp4: 384x640 (no detections), 12.8ms\n",
            "video 1/1 (frame 191/542) /content/drive/MyDrive/ITS/Test Videos/testshort.mp4: 384x640 (no detections), 10.2ms\n",
            "video 1/1 (frame 192/542) /content/drive/MyDrive/ITS/Test Videos/testshort.mp4: 384x640 (no detections), 13.0ms\n",
            "video 1/1 (frame 193/542) /content/drive/MyDrive/ITS/Test Videos/testshort.mp4: 384x640 (no detections), 11.1ms\n",
            "video 1/1 (frame 194/542) /content/drive/MyDrive/ITS/Test Videos/testshort.mp4: 384x640 (no detections), 17.0ms\n",
            "video 1/1 (frame 195/542) /content/drive/MyDrive/ITS/Test Videos/testshort.mp4: 384x640 (no detections), 9.8ms\n",
            "video 1/1 (frame 196/542) /content/drive/MyDrive/ITS/Test Videos/testshort.mp4: 384x640 (no detections), 15.8ms\n",
            "video 1/1 (frame 197/542) /content/drive/MyDrive/ITS/Test Videos/testshort.mp4: 384x640 (no detections), 12.6ms\n",
            "video 1/1 (frame 198/542) /content/drive/MyDrive/ITS/Test Videos/testshort.mp4: 384x640 (no detections), 15.8ms\n",
            "video 1/1 (frame 199/542) /content/drive/MyDrive/ITS/Test Videos/testshort.mp4: 384x640 (no detections), 13.3ms\n",
            "video 1/1 (frame 200/542) /content/drive/MyDrive/ITS/Test Videos/testshort.mp4: 384x640 (no detections), 12.4ms\n",
            "video 1/1 (frame 201/542) /content/drive/MyDrive/ITS/Test Videos/testshort.mp4: 384x640 (no detections), 15.6ms\n",
            "video 1/1 (frame 202/542) /content/drive/MyDrive/ITS/Test Videos/testshort.mp4: 384x640 (no detections), 12.0ms\n",
            "video 1/1 (frame 203/542) /content/drive/MyDrive/ITS/Test Videos/testshort.mp4: 384x640 (no detections), 13.2ms\n",
            "video 1/1 (frame 204/542) /content/drive/MyDrive/ITS/Test Videos/testshort.mp4: 384x640 (no detections), 10.1ms\n",
            "video 1/1 (frame 205/542) /content/drive/MyDrive/ITS/Test Videos/testshort.mp4: 384x640 (no detections), 13.1ms\n",
            "video 1/1 (frame 206/542) /content/drive/MyDrive/ITS/Test Videos/testshort.mp4: 384x640 (no detections), 13.3ms\n",
            "video 1/1 (frame 207/542) /content/drive/MyDrive/ITS/Test Videos/testshort.mp4: 384x640 (no detections), 13.2ms\n",
            "video 1/1 (frame 208/542) /content/drive/MyDrive/ITS/Test Videos/testshort.mp4: 384x640 (no detections), 13.9ms\n",
            "video 1/1 (frame 209/542) /content/drive/MyDrive/ITS/Test Videos/testshort.mp4: 384x640 (no detections), 17.6ms\n",
            "video 1/1 (frame 210/542) /content/drive/MyDrive/ITS/Test Videos/testshort.mp4: 384x640 (no detections), 14.4ms\n",
            "video 1/1 (frame 211/542) /content/drive/MyDrive/ITS/Test Videos/testshort.mp4: 384x640 (no detections), 14.1ms\n",
            "video 1/1 (frame 212/542) /content/drive/MyDrive/ITS/Test Videos/testshort.mp4: 384x640 (no detections), 12.5ms\n",
            "video 1/1 (frame 213/542) /content/drive/MyDrive/ITS/Test Videos/testshort.mp4: 384x640 (no detections), 13.2ms\n",
            "video 1/1 (frame 214/542) /content/drive/MyDrive/ITS/Test Videos/testshort.mp4: 384x640 (no detections), 12.0ms\n",
            "video 1/1 (frame 215/542) /content/drive/MyDrive/ITS/Test Videos/testshort.mp4: 384x640 (no detections), 15.7ms\n",
            "video 1/1 (frame 216/542) /content/drive/MyDrive/ITS/Test Videos/testshort.mp4: 384x640 (no detections), 14.8ms\n",
            "video 1/1 (frame 217/542) /content/drive/MyDrive/ITS/Test Videos/testshort.mp4: 384x640 (no detections), 10.9ms\n",
            "video 1/1 (frame 218/542) /content/drive/MyDrive/ITS/Test Videos/testshort.mp4: 384x640 (no detections), 12.8ms\n",
            "video 1/1 (frame 219/542) /content/drive/MyDrive/ITS/Test Videos/testshort.mp4: 384x640 (no detections), 11.4ms\n",
            "video 1/1 (frame 220/542) /content/drive/MyDrive/ITS/Test Videos/testshort.mp4: 384x640 (no detections), 14.3ms\n",
            "video 1/1 (frame 221/542) /content/drive/MyDrive/ITS/Test Videos/testshort.mp4: 384x640 (no detections), 13.7ms\n",
            "video 1/1 (frame 222/542) /content/drive/MyDrive/ITS/Test Videos/testshort.mp4: 384x640 (no detections), 13.6ms\n",
            "video 1/1 (frame 223/542) /content/drive/MyDrive/ITS/Test Videos/testshort.mp4: 384x640 (no detections), 19.5ms\n",
            "video 1/1 (frame 224/542) /content/drive/MyDrive/ITS/Test Videos/testshort.mp4: 384x640 (no detections), 24.4ms\n",
            "video 1/1 (frame 225/542) /content/drive/MyDrive/ITS/Test Videos/testshort.mp4: 384x640 (no detections), 30.9ms\n",
            "video 1/1 (frame 226/542) /content/drive/MyDrive/ITS/Test Videos/testshort.mp4: 384x640 (no detections), 18.1ms\n",
            "video 1/1 (frame 227/542) /content/drive/MyDrive/ITS/Test Videos/testshort.mp4: 384x640 (no detections), 14.4ms\n",
            "video 1/1 (frame 228/542) /content/drive/MyDrive/ITS/Test Videos/testshort.mp4: 384x640 (no detections), 11.3ms\n",
            "video 1/1 (frame 229/542) /content/drive/MyDrive/ITS/Test Videos/testshort.mp4: 384x640 (no detections), 13.5ms\n",
            "video 1/1 (frame 230/542) /content/drive/MyDrive/ITS/Test Videos/testshort.mp4: 384x640 (no detections), 18.5ms\n",
            "video 1/1 (frame 231/542) /content/drive/MyDrive/ITS/Test Videos/testshort.mp4: 384x640 (no detections), 22.2ms\n",
            "video 1/1 (frame 232/542) /content/drive/MyDrive/ITS/Test Videos/testshort.mp4: 384x640 (no detections), 17.2ms\n",
            "video 1/1 (frame 233/542) /content/drive/MyDrive/ITS/Test Videos/testshort.mp4: 384x640 (no detections), 17.3ms\n",
            "video 1/1 (frame 234/542) /content/drive/MyDrive/ITS/Test Videos/testshort.mp4: 384x640 (no detections), 16.7ms\n",
            "video 1/1 (frame 235/542) /content/drive/MyDrive/ITS/Test Videos/testshort.mp4: 384x640 (no detections), 16.1ms\n",
            "video 1/1 (frame 236/542) /content/drive/MyDrive/ITS/Test Videos/testshort.mp4: 384x640 (no detections), 15.2ms\n",
            "video 1/1 (frame 237/542) /content/drive/MyDrive/ITS/Test Videos/testshort.mp4: 384x640 (no detections), 24.9ms\n",
            "video 1/1 (frame 238/542) /content/drive/MyDrive/ITS/Test Videos/testshort.mp4: 384x640 (no detections), 16.5ms\n",
            "video 1/1 (frame 239/542) /content/drive/MyDrive/ITS/Test Videos/testshort.mp4: 384x640 (no detections), 19.0ms\n",
            "video 1/1 (frame 240/542) /content/drive/MyDrive/ITS/Test Videos/testshort.mp4: 384x640 (no detections), 18.2ms\n",
            "video 1/1 (frame 241/542) /content/drive/MyDrive/ITS/Test Videos/testshort.mp4: 384x640 (no detections), 14.4ms\n",
            "video 1/1 (frame 242/542) /content/drive/MyDrive/ITS/Test Videos/testshort.mp4: 384x640 (no detections), 17.1ms\n",
            "video 1/1 (frame 243/542) /content/drive/MyDrive/ITS/Test Videos/testshort.mp4: 384x640 (no detections), 13.8ms\n",
            "video 1/1 (frame 244/542) /content/drive/MyDrive/ITS/Test Videos/testshort.mp4: 384x640 (no detections), 16.5ms\n",
            "video 1/1 (frame 245/542) /content/drive/MyDrive/ITS/Test Videos/testshort.mp4: 384x640 (no detections), 13.2ms\n",
            "video 1/1 (frame 246/542) /content/drive/MyDrive/ITS/Test Videos/testshort.mp4: 384x640 (no detections), 13.2ms\n",
            "video 1/1 (frame 247/542) /content/drive/MyDrive/ITS/Test Videos/testshort.mp4: 384x640 (no detections), 13.1ms\n",
            "video 1/1 (frame 248/542) /content/drive/MyDrive/ITS/Test Videos/testshort.mp4: 384x640 (no detections), 13.3ms\n",
            "video 1/1 (frame 249/542) /content/drive/MyDrive/ITS/Test Videos/testshort.mp4: 384x640 (no detections), 16.0ms\n",
            "video 1/1 (frame 250/542) /content/drive/MyDrive/ITS/Test Videos/testshort.mp4: 384x640 (no detections), 12.0ms\n",
            "video 1/1 (frame 251/542) /content/drive/MyDrive/ITS/Test Videos/testshort.mp4: 384x640 (no detections), 23.0ms\n",
            "video 1/1 (frame 252/542) /content/drive/MyDrive/ITS/Test Videos/testshort.mp4: 384x640 (no detections), 12.5ms\n",
            "video 1/1 (frame 253/542) /content/drive/MyDrive/ITS/Test Videos/testshort.mp4: 384x640 (no detections), 20.2ms\n",
            "video 1/1 (frame 254/542) /content/drive/MyDrive/ITS/Test Videos/testshort.mp4: 384x640 (no detections), 11.7ms\n",
            "video 1/1 (frame 255/542) /content/drive/MyDrive/ITS/Test Videos/testshort.mp4: 384x640 (no detections), 20.3ms\n",
            "video 1/1 (frame 256/542) /content/drive/MyDrive/ITS/Test Videos/testshort.mp4: 384x640 (no detections), 15.1ms\n",
            "video 1/1 (frame 257/542) /content/drive/MyDrive/ITS/Test Videos/testshort.mp4: 384x640 (no detections), 17.5ms\n",
            "video 1/1 (frame 258/542) /content/drive/MyDrive/ITS/Test Videos/testshort.mp4: 384x640 (no detections), 15.9ms\n",
            "video 1/1 (frame 259/542) /content/drive/MyDrive/ITS/Test Videos/testshort.mp4: 384x640 (no detections), 13.2ms\n",
            "video 1/1 (frame 260/542) /content/drive/MyDrive/ITS/Test Videos/testshort.mp4: 384x640 (no detections), 22.0ms\n",
            "video 1/1 (frame 261/542) /content/drive/MyDrive/ITS/Test Videos/testshort.mp4: 384x640 (no detections), 11.9ms\n",
            "video 1/1 (frame 262/542) /content/drive/MyDrive/ITS/Test Videos/testshort.mp4: 384x640 (no detections), 13.3ms\n",
            "video 1/1 (frame 263/542) /content/drive/MyDrive/ITS/Test Videos/testshort.mp4: 384x640 (no detections), 18.8ms\n",
            "video 1/1 (frame 264/542) /content/drive/MyDrive/ITS/Test Videos/testshort.mp4: 384x640 (no detections), 13.7ms\n",
            "video 1/1 (frame 265/542) /content/drive/MyDrive/ITS/Test Videos/testshort.mp4: 384x640 (no detections), 23.7ms\n",
            "video 1/1 (frame 266/542) /content/drive/MyDrive/ITS/Test Videos/testshort.mp4: 384x640 (no detections), 14.9ms\n",
            "video 1/1 (frame 267/542) /content/drive/MyDrive/ITS/Test Videos/testshort.mp4: 384x640 (no detections), 22.8ms\n",
            "video 1/1 (frame 268/542) /content/drive/MyDrive/ITS/Test Videos/testshort.mp4: 384x640 (no detections), 17.8ms\n",
            "video 1/1 (frame 269/542) /content/drive/MyDrive/ITS/Test Videos/testshort.mp4: 384x640 (no detections), 19.3ms\n",
            "video 1/1 (frame 270/542) /content/drive/MyDrive/ITS/Test Videos/testshort.mp4: 384x640 (no detections), 20.2ms\n",
            "video 1/1 (frame 271/542) /content/drive/MyDrive/ITS/Test Videos/testshort.mp4: 384x640 (no detections), 20.0ms\n",
            "video 1/1 (frame 272/542) /content/drive/MyDrive/ITS/Test Videos/testshort.mp4: 384x640 (no detections), 17.8ms\n",
            "video 1/1 (frame 273/542) /content/drive/MyDrive/ITS/Test Videos/testshort.mp4: 384x640 (no detections), 14.2ms\n",
            "video 1/1 (frame 274/542) /content/drive/MyDrive/ITS/Test Videos/testshort.mp4: 384x640 (no detections), 20.7ms\n",
            "video 1/1 (frame 275/542) /content/drive/MyDrive/ITS/Test Videos/testshort.mp4: 384x640 (no detections), 23.8ms\n",
            "video 1/1 (frame 276/542) /content/drive/MyDrive/ITS/Test Videos/testshort.mp4: 384x640 (no detections), 20.1ms\n",
            "video 1/1 (frame 277/542) /content/drive/MyDrive/ITS/Test Videos/testshort.mp4: 384x640 (no detections), 20.9ms\n",
            "video 1/1 (frame 278/542) /content/drive/MyDrive/ITS/Test Videos/testshort.mp4: 384x640 (no detections), 22.2ms\n",
            "video 1/1 (frame 279/542) /content/drive/MyDrive/ITS/Test Videos/testshort.mp4: 384x640 (no detections), 14.1ms\n",
            "video 1/1 (frame 280/542) /content/drive/MyDrive/ITS/Test Videos/testshort.mp4: 384x640 (no detections), 13.5ms\n",
            "video 1/1 (frame 281/542) /content/drive/MyDrive/ITS/Test Videos/testshort.mp4: 384x640 (no detections), 13.4ms\n",
            "video 1/1 (frame 282/542) /content/drive/MyDrive/ITS/Test Videos/testshort.mp4: 384x640 (no detections), 13.5ms\n",
            "video 1/1 (frame 283/542) /content/drive/MyDrive/ITS/Test Videos/testshort.mp4: 384x640 (no detections), 13.5ms\n",
            "video 1/1 (frame 284/542) /content/drive/MyDrive/ITS/Test Videos/testshort.mp4: 384x640 (no detections), 17.3ms\n",
            "video 1/1 (frame 285/542) /content/drive/MyDrive/ITS/Test Videos/testshort.mp4: 384x640 (no detections), 17.0ms\n",
            "video 1/1 (frame 286/542) /content/drive/MyDrive/ITS/Test Videos/testshort.mp4: 384x640 (no detections), 15.5ms\n",
            "video 1/1 (frame 287/542) /content/drive/MyDrive/ITS/Test Videos/testshort.mp4: 384x640 (no detections), 10.6ms\n",
            "video 1/1 (frame 288/542) /content/drive/MyDrive/ITS/Test Videos/testshort.mp4: 384x640 (no detections), 13.5ms\n",
            "video 1/1 (frame 289/542) /content/drive/MyDrive/ITS/Test Videos/testshort.mp4: 384x640 (no detections), 13.6ms\n",
            "video 1/1 (frame 290/542) /content/drive/MyDrive/ITS/Test Videos/testshort.mp4: 384x640 (no detections), 11.4ms\n",
            "video 1/1 (frame 291/542) /content/drive/MyDrive/ITS/Test Videos/testshort.mp4: 384x640 (no detections), 13.3ms\n",
            "video 1/1 (frame 292/542) /content/drive/MyDrive/ITS/Test Videos/testshort.mp4: 384x640 (no detections), 13.1ms\n",
            "video 1/1 (frame 293/542) /content/drive/MyDrive/ITS/Test Videos/testshort.mp4: 384x640 (no detections), 13.3ms\n",
            "video 1/1 (frame 294/542) /content/drive/MyDrive/ITS/Test Videos/testshort.mp4: 384x640 (no detections), 11.6ms\n",
            "video 1/1 (frame 295/542) /content/drive/MyDrive/ITS/Test Videos/testshort.mp4: 384x640 (no detections), 13.8ms\n",
            "video 1/1 (frame 296/542) /content/drive/MyDrive/ITS/Test Videos/testshort.mp4: 384x640 (no detections), 14.2ms\n",
            "video 1/1 (frame 297/542) /content/drive/MyDrive/ITS/Test Videos/testshort.mp4: 384x640 (no detections), 12.6ms\n",
            "video 1/1 (frame 298/542) /content/drive/MyDrive/ITS/Test Videos/testshort.mp4: 384x640 (no detections), 11.3ms\n",
            "video 1/1 (frame 299/542) /content/drive/MyDrive/ITS/Test Videos/testshort.mp4: 384x640 (no detections), 12.7ms\n",
            "video 1/1 (frame 300/542) /content/drive/MyDrive/ITS/Test Videos/testshort.mp4: 384x640 (no detections), 18.8ms\n",
            "video 1/1 (frame 301/542) /content/drive/MyDrive/ITS/Test Videos/testshort.mp4: 384x640 (no detections), 10.4ms\n",
            "video 1/1 (frame 302/542) /content/drive/MyDrive/ITS/Test Videos/testshort.mp4: 384x640 (no detections), 22.3ms\n",
            "video 1/1 (frame 303/542) /content/drive/MyDrive/ITS/Test Videos/testshort.mp4: 384x640 (no detections), 15.0ms\n",
            "video 1/1 (frame 304/542) /content/drive/MyDrive/ITS/Test Videos/testshort.mp4: 384x640 (no detections), 18.7ms\n",
            "video 1/1 (frame 305/542) /content/drive/MyDrive/ITS/Test Videos/testshort.mp4: 384x640 (no detections), 24.1ms\n",
            "video 1/1 (frame 306/542) /content/drive/MyDrive/ITS/Test Videos/testshort.mp4: 384x640 (no detections), 28.6ms\n",
            "video 1/1 (frame 307/542) /content/drive/MyDrive/ITS/Test Videos/testshort.mp4: 384x640 (no detections), 13.3ms\n",
            "video 1/1 (frame 308/542) /content/drive/MyDrive/ITS/Test Videos/testshort.mp4: 384x640 (no detections), 22.1ms\n",
            "video 1/1 (frame 309/542) /content/drive/MyDrive/ITS/Test Videos/testshort.mp4: 384x640 (no detections), 12.7ms\n",
            "video 1/1 (frame 310/542) /content/drive/MyDrive/ITS/Test Videos/testshort.mp4: 384x640 (no detections), 12.7ms\n",
            "video 1/1 (frame 311/542) /content/drive/MyDrive/ITS/Test Videos/testshort.mp4: 384x640 (no detections), 13.1ms\n",
            "video 1/1 (frame 312/542) /content/drive/MyDrive/ITS/Test Videos/testshort.mp4: 384x640 (no detections), 19.3ms\n",
            "video 1/1 (frame 313/542) /content/drive/MyDrive/ITS/Test Videos/testshort.mp4: 384x640 (no detections), 17.2ms\n",
            "video 1/1 (frame 314/542) /content/drive/MyDrive/ITS/Test Videos/testshort.mp4: 384x640 (no detections), 12.7ms\n",
            "video 1/1 (frame 315/542) /content/drive/MyDrive/ITS/Test Videos/testshort.mp4: 384x640 (no detections), 13.3ms\n",
            "video 1/1 (frame 316/542) /content/drive/MyDrive/ITS/Test Videos/testshort.mp4: 384x640 (no detections), 14.3ms\n",
            "video 1/1 (frame 317/542) /content/drive/MyDrive/ITS/Test Videos/testshort.mp4: 384x640 (no detections), 12.2ms\n",
            "video 1/1 (frame 318/542) /content/drive/MyDrive/ITS/Test Videos/testshort.mp4: 384x640 (no detections), 25.8ms\n",
            "video 1/1 (frame 319/542) /content/drive/MyDrive/ITS/Test Videos/testshort.mp4: 384x640 (no detections), 18.7ms\n",
            "video 1/1 (frame 320/542) /content/drive/MyDrive/ITS/Test Videos/testshort.mp4: 384x640 (no detections), 27.7ms\n",
            "video 1/1 (frame 321/542) /content/drive/MyDrive/ITS/Test Videos/testshort.mp4: 384x640 (no detections), 16.7ms\n",
            "video 1/1 (frame 322/542) /content/drive/MyDrive/ITS/Test Videos/testshort.mp4: 384x640 (no detections), 23.7ms\n",
            "video 1/1 (frame 323/542) /content/drive/MyDrive/ITS/Test Videos/testshort.mp4: 384x640 (no detections), 12.8ms\n",
            "video 1/1 (frame 324/542) /content/drive/MyDrive/ITS/Test Videos/testshort.mp4: 384x640 (no detections), 16.1ms\n",
            "video 1/1 (frame 325/542) /content/drive/MyDrive/ITS/Test Videos/testshort.mp4: 384x640 (no detections), 15.6ms\n",
            "video 1/1 (frame 326/542) /content/drive/MyDrive/ITS/Test Videos/testshort.mp4: 384x640 (no detections), 11.9ms\n",
            "video 1/1 (frame 327/542) /content/drive/MyDrive/ITS/Test Videos/testshort.mp4: 384x640 (no detections), 18.1ms\n",
            "video 1/1 (frame 328/542) /content/drive/MyDrive/ITS/Test Videos/testshort.mp4: 384x640 (no detections), 14.9ms\n",
            "video 1/1 (frame 329/542) /content/drive/MyDrive/ITS/Test Videos/testshort.mp4: 384x640 (no detections), 11.9ms\n",
            "video 1/1 (frame 330/542) /content/drive/MyDrive/ITS/Test Videos/testshort.mp4: 384x640 (no detections), 25.0ms\n",
            "video 1/1 (frame 331/542) /content/drive/MyDrive/ITS/Test Videos/testshort.mp4: 384x640 (no detections), 19.8ms\n",
            "video 1/1 (frame 332/542) /content/drive/MyDrive/ITS/Test Videos/testshort.mp4: 384x640 (no detections), 22.1ms\n",
            "video 1/1 (frame 333/542) /content/drive/MyDrive/ITS/Test Videos/testshort.mp4: 384x640 (no detections), 24.1ms\n",
            "video 1/1 (frame 334/542) /content/drive/MyDrive/ITS/Test Videos/testshort.mp4: 384x640 (no detections), 19.5ms\n",
            "video 1/1 (frame 335/542) /content/drive/MyDrive/ITS/Test Videos/testshort.mp4: 384x640 (no detections), 20.3ms\n",
            "video 1/1 (frame 336/542) /content/drive/MyDrive/ITS/Test Videos/testshort.mp4: 384x640 (no detections), 14.1ms\n",
            "video 1/1 (frame 337/542) /content/drive/MyDrive/ITS/Test Videos/testshort.mp4: 384x640 (no detections), 17.2ms\n",
            "video 1/1 (frame 338/542) /content/drive/MyDrive/ITS/Test Videos/testshort.mp4: 384x640 (no detections), 19.9ms\n",
            "video 1/1 (frame 339/542) /content/drive/MyDrive/ITS/Test Videos/testshort.mp4: 384x640 (no detections), 18.0ms\n",
            "video 1/1 (frame 340/542) /content/drive/MyDrive/ITS/Test Videos/testshort.mp4: 384x640 (no detections), 18.6ms\n",
            "video 1/1 (frame 341/542) /content/drive/MyDrive/ITS/Test Videos/testshort.mp4: 384x640 (no detections), 40.9ms\n",
            "video 1/1 (frame 342/542) /content/drive/MyDrive/ITS/Test Videos/testshort.mp4: 384x640 (no detections), 34.1ms\n",
            "video 1/1 (frame 343/542) /content/drive/MyDrive/ITS/Test Videos/testshort.mp4: 384x640 (no detections), 26.9ms\n",
            "video 1/1 (frame 344/542) /content/drive/MyDrive/ITS/Test Videos/testshort.mp4: 384x640 (no detections), 50.3ms\n",
            "video 1/1 (frame 345/542) /content/drive/MyDrive/ITS/Test Videos/testshort.mp4: 384x640 (no detections), 23.3ms\n",
            "video 1/1 (frame 346/542) /content/drive/MyDrive/ITS/Test Videos/testshort.mp4: 384x640 (no detections), 26.2ms\n",
            "video 1/1 (frame 347/542) /content/drive/MyDrive/ITS/Test Videos/testshort.mp4: 384x640 (no detections), 14.5ms\n",
            "video 1/1 (frame 348/542) /content/drive/MyDrive/ITS/Test Videos/testshort.mp4: 384x640 (no detections), 30.2ms\n",
            "video 1/1 (frame 349/542) /content/drive/MyDrive/ITS/Test Videos/testshort.mp4: 384x640 (no detections), 13.9ms\n",
            "video 1/1 (frame 350/542) /content/drive/MyDrive/ITS/Test Videos/testshort.mp4: 384x640 (no detections), 18.5ms\n",
            "video 1/1 (frame 351/542) /content/drive/MyDrive/ITS/Test Videos/testshort.mp4: 384x640 (no detections), 16.9ms\n",
            "video 1/1 (frame 352/542) /content/drive/MyDrive/ITS/Test Videos/testshort.mp4: 384x640 (no detections), 13.8ms\n",
            "video 1/1 (frame 353/542) /content/drive/MyDrive/ITS/Test Videos/testshort.mp4: 384x640 (no detections), 26.9ms\n",
            "video 1/1 (frame 354/542) /content/drive/MyDrive/ITS/Test Videos/testshort.mp4: 384x640 (no detections), 30.1ms\n",
            "video 1/1 (frame 355/542) /content/drive/MyDrive/ITS/Test Videos/testshort.mp4: 384x640 (no detections), 54.4ms\n",
            "video 1/1 (frame 356/542) /content/drive/MyDrive/ITS/Test Videos/testshort.mp4: 384x640 1 htv, 13.7ms\n",
            "video 1/1 (frame 357/542) /content/drive/MyDrive/ITS/Test Videos/testshort.mp4: 384x640 1 htv, 14.1ms\n",
            "video 1/1 (frame 358/542) /content/drive/MyDrive/ITS/Test Videos/testshort.mp4: 384x640 1 htv, 14.2ms\n",
            "video 1/1 (frame 359/542) /content/drive/MyDrive/ITS/Test Videos/testshort.mp4: 384x640 1 htv, 25.4ms\n",
            "video 1/1 (frame 360/542) /content/drive/MyDrive/ITS/Test Videos/testshort.mp4: 384x640 (no detections), 17.7ms\n",
            "video 1/1 (frame 361/542) /content/drive/MyDrive/ITS/Test Videos/testshort.mp4: 384x640 (no detections), 16.0ms\n",
            "video 1/1 (frame 362/542) /content/drive/MyDrive/ITS/Test Videos/testshort.mp4: 384x640 (no detections), 19.9ms\n",
            "video 1/1 (frame 363/542) /content/drive/MyDrive/ITS/Test Videos/testshort.mp4: 384x640 (no detections), 14.3ms\n",
            "video 1/1 (frame 364/542) /content/drive/MyDrive/ITS/Test Videos/testshort.mp4: 384x640 1 htv, 17.9ms\n",
            "video 1/1 (frame 365/542) /content/drive/MyDrive/ITS/Test Videos/testshort.mp4: 384x640 1 htv, 15.4ms\n",
            "video 1/1 (frame 366/542) /content/drive/MyDrive/ITS/Test Videos/testshort.mp4: 384x640 (no detections), 13.5ms\n",
            "video 1/1 (frame 367/542) /content/drive/MyDrive/ITS/Test Videos/testshort.mp4: 384x640 (no detections), 49.2ms\n",
            "video 1/1 (frame 368/542) /content/drive/MyDrive/ITS/Test Videos/testshort.mp4: 384x640 (no detections), 57.3ms\n",
            "video 1/1 (frame 369/542) /content/drive/MyDrive/ITS/Test Videos/testshort.mp4: 384x640 (no detections), 33.6ms\n",
            "video 1/1 (frame 370/542) /content/drive/MyDrive/ITS/Test Videos/testshort.mp4: 384x640 (no detections), 30.3ms\n",
            "video 1/1 (frame 371/542) /content/drive/MyDrive/ITS/Test Videos/testshort.mp4: 384x640 (no detections), 22.8ms\n",
            "video 1/1 (frame 372/542) /content/drive/MyDrive/ITS/Test Videos/testshort.mp4: 384x640 (no detections), 47.8ms\n",
            "video 1/1 (frame 373/542) /content/drive/MyDrive/ITS/Test Videos/testshort.mp4: 384x640 (no detections), 12.9ms\n",
            "video 1/1 (frame 374/542) /content/drive/MyDrive/ITS/Test Videos/testshort.mp4: 384x640 (no detections), 12.9ms\n",
            "video 1/1 (frame 375/542) /content/drive/MyDrive/ITS/Test Videos/testshort.mp4: 384x640 (no detections), 14.0ms\n",
            "video 1/1 (frame 376/542) /content/drive/MyDrive/ITS/Test Videos/testshort.mp4: 384x640 1 htv, 13.9ms\n",
            "video 1/1 (frame 377/542) /content/drive/MyDrive/ITS/Test Videos/testshort.mp4: 384x640 1 htv, 11.8ms\n",
            "video 1/1 (frame 378/542) /content/drive/MyDrive/ITS/Test Videos/testshort.mp4: 384x640 (no detections), 9.2ms\n",
            "video 1/1 (frame 379/542) /content/drive/MyDrive/ITS/Test Videos/testshort.mp4: 384x640 (no detections), 16.5ms\n",
            "video 1/1 (frame 380/542) /content/drive/MyDrive/ITS/Test Videos/testshort.mp4: 384x640 (no detections), 23.1ms\n",
            "video 1/1 (frame 381/542) /content/drive/MyDrive/ITS/Test Videos/testshort.mp4: 384x640 1 htv, 12.2ms\n",
            "video 1/1 (frame 382/542) /content/drive/MyDrive/ITS/Test Videos/testshort.mp4: 384x640 1 htv, 21.3ms\n",
            "video 1/1 (frame 383/542) /content/drive/MyDrive/ITS/Test Videos/testshort.mp4: 384x640 (no detections), 23.0ms\n",
            "video 1/1 (frame 384/542) /content/drive/MyDrive/ITS/Test Videos/testshort.mp4: 384x640 (no detections), 13.0ms\n",
            "video 1/1 (frame 385/542) /content/drive/MyDrive/ITS/Test Videos/testshort.mp4: 384x640 (no detections), 15.3ms\n",
            "video 1/1 (frame 386/542) /content/drive/MyDrive/ITS/Test Videos/testshort.mp4: 384x640 (no detections), 15.5ms\n",
            "video 1/1 (frame 387/542) /content/drive/MyDrive/ITS/Test Videos/testshort.mp4: 384x640 1 htv, 19.0ms\n",
            "video 1/1 (frame 388/542) /content/drive/MyDrive/ITS/Test Videos/testshort.mp4: 384x640 (no detections), 12.9ms\n",
            "video 1/1 (frame 389/542) /content/drive/MyDrive/ITS/Test Videos/testshort.mp4: 384x640 (no detections), 12.4ms\n",
            "video 1/1 (frame 390/542) /content/drive/MyDrive/ITS/Test Videos/testshort.mp4: 384x640 (no detections), 15.9ms\n",
            "video 1/1 (frame 391/542) /content/drive/MyDrive/ITS/Test Videos/testshort.mp4: 384x640 (no detections), 13.7ms\n",
            "video 1/1 (frame 392/542) /content/drive/MyDrive/ITS/Test Videos/testshort.mp4: 384x640 (no detections), 21.6ms\n",
            "video 1/1 (frame 393/542) /content/drive/MyDrive/ITS/Test Videos/testshort.mp4: 384x640 (no detections), 23.0ms\n",
            "video 1/1 (frame 394/542) /content/drive/MyDrive/ITS/Test Videos/testshort.mp4: 384x640 (no detections), 17.9ms\n",
            "video 1/1 (frame 395/542) /content/drive/MyDrive/ITS/Test Videos/testshort.mp4: 384x640 (no detections), 18.0ms\n",
            "video 1/1 (frame 396/542) /content/drive/MyDrive/ITS/Test Videos/testshort.mp4: 384x640 (no detections), 11.7ms\n",
            "video 1/1 (frame 397/542) /content/drive/MyDrive/ITS/Test Videos/testshort.mp4: 384x640 (no detections), 12.2ms\n",
            "video 1/1 (frame 398/542) /content/drive/MyDrive/ITS/Test Videos/testshort.mp4: 384x640 (no detections), 21.2ms\n",
            "video 1/1 (frame 399/542) /content/drive/MyDrive/ITS/Test Videos/testshort.mp4: 384x640 (no detections), 13.7ms\n",
            "video 1/1 (frame 400/542) /content/drive/MyDrive/ITS/Test Videos/testshort.mp4: 384x640 (no detections), 24.1ms\n",
            "video 1/1 (frame 401/542) /content/drive/MyDrive/ITS/Test Videos/testshort.mp4: 384x640 (no detections), 13.5ms\n",
            "video 1/1 (frame 402/542) /content/drive/MyDrive/ITS/Test Videos/testshort.mp4: 384x640 (no detections), 13.7ms\n",
            "video 1/1 (frame 403/542) /content/drive/MyDrive/ITS/Test Videos/testshort.mp4: 384x640 (no detections), 14.2ms\n",
            "video 1/1 (frame 404/542) /content/drive/MyDrive/ITS/Test Videos/testshort.mp4: 384x640 (no detections), 22.0ms\n",
            "video 1/1 (frame 405/542) /content/drive/MyDrive/ITS/Test Videos/testshort.mp4: 384x640 (no detections), 21.3ms\n",
            "video 1/1 (frame 406/542) /content/drive/MyDrive/ITS/Test Videos/testshort.mp4: 384x640 (no detections), 21.7ms\n",
            "video 1/1 (frame 407/542) /content/drive/MyDrive/ITS/Test Videos/testshort.mp4: 384x640 (no detections), 11.8ms\n",
            "video 1/1 (frame 408/542) /content/drive/MyDrive/ITS/Test Videos/testshort.mp4: 384x640 (no detections), 15.2ms\n",
            "video 1/1 (frame 409/542) /content/drive/MyDrive/ITS/Test Videos/testshort.mp4: 384x640 (no detections), 13.0ms\n",
            "video 1/1 (frame 410/542) /content/drive/MyDrive/ITS/Test Videos/testshort.mp4: 384x640 (no detections), 12.3ms\n",
            "video 1/1 (frame 411/542) /content/drive/MyDrive/ITS/Test Videos/testshort.mp4: 384x640 (no detections), 19.2ms\n",
            "video 1/1 (frame 412/542) /content/drive/MyDrive/ITS/Test Videos/testshort.mp4: 384x640 (no detections), 15.4ms\n",
            "video 1/1 (frame 413/542) /content/drive/MyDrive/ITS/Test Videos/testshort.mp4: 384x640 (no detections), 13.6ms\n",
            "video 1/1 (frame 414/542) /content/drive/MyDrive/ITS/Test Videos/testshort.mp4: 384x640 (no detections), 17.3ms\n",
            "video 1/1 (frame 415/542) /content/drive/MyDrive/ITS/Test Videos/testshort.mp4: 384x640 (no detections), 16.9ms\n",
            "video 1/1 (frame 416/542) /content/drive/MyDrive/ITS/Test Videos/testshort.mp4: 384x640 (no detections), 17.5ms\n",
            "video 1/1 (frame 417/542) /content/drive/MyDrive/ITS/Test Videos/testshort.mp4: 384x640 (no detections), 20.0ms\n",
            "video 1/1 (frame 418/542) /content/drive/MyDrive/ITS/Test Videos/testshort.mp4: 384x640 (no detections), 62.9ms\n",
            "video 1/1 (frame 419/542) /content/drive/MyDrive/ITS/Test Videos/testshort.mp4: 384x640 (no detections), 33.6ms\n",
            "video 1/1 (frame 420/542) /content/drive/MyDrive/ITS/Test Videos/testshort.mp4: 384x640 (no detections), 77.7ms\n",
            "video 1/1 (frame 421/542) /content/drive/MyDrive/ITS/Test Videos/testshort.mp4: 384x640 (no detections), 15.5ms\n",
            "video 1/1 (frame 422/542) /content/drive/MyDrive/ITS/Test Videos/testshort.mp4: 384x640 (no detections), 19.4ms\n",
            "video 1/1 (frame 423/542) /content/drive/MyDrive/ITS/Test Videos/testshort.mp4: 384x640 (no detections), 23.5ms\n",
            "video 1/1 (frame 424/542) /content/drive/MyDrive/ITS/Test Videos/testshort.mp4: 384x640 (no detections), 23.3ms\n",
            "video 1/1 (frame 425/542) /content/drive/MyDrive/ITS/Test Videos/testshort.mp4: 384x640 (no detections), 23.0ms\n",
            "video 1/1 (frame 426/542) /content/drive/MyDrive/ITS/Test Videos/testshort.mp4: 384x640 (no detections), 22.7ms\n",
            "video 1/1 (frame 427/542) /content/drive/MyDrive/ITS/Test Videos/testshort.mp4: 384x640 (no detections), 18.3ms\n",
            "video 1/1 (frame 428/542) /content/drive/MyDrive/ITS/Test Videos/testshort.mp4: 384x640 (no detections), 16.6ms\n",
            "video 1/1 (frame 429/542) /content/drive/MyDrive/ITS/Test Videos/testshort.mp4: 384x640 (no detections), 16.3ms\n",
            "video 1/1 (frame 430/542) /content/drive/MyDrive/ITS/Test Videos/testshort.mp4: 384x640 (no detections), 15.0ms\n",
            "video 1/1 (frame 431/542) /content/drive/MyDrive/ITS/Test Videos/testshort.mp4: 384x640 (no detections), 15.6ms\n",
            "video 1/1 (frame 432/542) /content/drive/MyDrive/ITS/Test Videos/testshort.mp4: 384x640 (no detections), 16.1ms\n",
            "video 1/1 (frame 433/542) /content/drive/MyDrive/ITS/Test Videos/testshort.mp4: 384x640 (no detections), 12.6ms\n",
            "video 1/1 (frame 434/542) /content/drive/MyDrive/ITS/Test Videos/testshort.mp4: 384x640 (no detections), 18.6ms\n",
            "video 1/1 (frame 435/542) /content/drive/MyDrive/ITS/Test Videos/testshort.mp4: 384x640 (no detections), 22.0ms\n",
            "video 1/1 (frame 436/542) /content/drive/MyDrive/ITS/Test Videos/testshort.mp4: 384x640 (no detections), 11.5ms\n",
            "video 1/1 (frame 437/542) /content/drive/MyDrive/ITS/Test Videos/testshort.mp4: 384x640 (no detections), 9.7ms\n",
            "video 1/1 (frame 438/542) /content/drive/MyDrive/ITS/Test Videos/testshort.mp4: 384x640 (no detections), 12.7ms\n",
            "video 1/1 (frame 439/542) /content/drive/MyDrive/ITS/Test Videos/testshort.mp4: 384x640 (no detections), 11.7ms\n",
            "video 1/1 (frame 440/542) /content/drive/MyDrive/ITS/Test Videos/testshort.mp4: 384x640 (no detections), 12.5ms\n",
            "video 1/1 (frame 441/542) /content/drive/MyDrive/ITS/Test Videos/testshort.mp4: 384x640 (no detections), 15.7ms\n",
            "video 1/1 (frame 442/542) /content/drive/MyDrive/ITS/Test Videos/testshort.mp4: 384x640 (no detections), 11.5ms\n",
            "video 1/1 (frame 443/542) /content/drive/MyDrive/ITS/Test Videos/testshort.mp4: 384x640 (no detections), 13.9ms\n",
            "video 1/1 (frame 444/542) /content/drive/MyDrive/ITS/Test Videos/testshort.mp4: 384x640 1 htv, 10.2ms\n",
            "video 1/1 (frame 445/542) /content/drive/MyDrive/ITS/Test Videos/testshort.mp4: 384x640 (no detections), 14.3ms\n",
            "video 1/1 (frame 446/542) /content/drive/MyDrive/ITS/Test Videos/testshort.mp4: 384x640 (no detections), 11.8ms\n",
            "video 1/1 (frame 447/542) /content/drive/MyDrive/ITS/Test Videos/testshort.mp4: 384x640 (no detections), 14.2ms\n",
            "video 1/1 (frame 448/542) /content/drive/MyDrive/ITS/Test Videos/testshort.mp4: 384x640 (no detections), 11.1ms\n",
            "video 1/1 (frame 449/542) /content/drive/MyDrive/ITS/Test Videos/testshort.mp4: 384x640 (no detections), 13.7ms\n",
            "video 1/1 (frame 450/542) /content/drive/MyDrive/ITS/Test Videos/testshort.mp4: 384x640 (no detections), 14.0ms\n",
            "video 1/1 (frame 451/542) /content/drive/MyDrive/ITS/Test Videos/testshort.mp4: 384x640 (no detections), 11.8ms\n",
            "video 1/1 (frame 452/542) /content/drive/MyDrive/ITS/Test Videos/testshort.mp4: 384x640 (no detections), 15.0ms\n",
            "video 1/1 (frame 453/542) /content/drive/MyDrive/ITS/Test Videos/testshort.mp4: 384x640 (no detections), 11.6ms\n",
            "video 1/1 (frame 454/542) /content/drive/MyDrive/ITS/Test Videos/testshort.mp4: 384x640 (no detections), 12.7ms\n",
            "video 1/1 (frame 455/542) /content/drive/MyDrive/ITS/Test Videos/testshort.mp4: 384x640 (no detections), 11.7ms\n",
            "video 1/1 (frame 456/542) /content/drive/MyDrive/ITS/Test Videos/testshort.mp4: 384x640 (no detections), 11.2ms\n",
            "video 1/1 (frame 457/542) /content/drive/MyDrive/ITS/Test Videos/testshort.mp4: 384x640 (no detections), 17.5ms\n",
            "video 1/1 (frame 458/542) /content/drive/MyDrive/ITS/Test Videos/testshort.mp4: 384x640 (no detections), 11.3ms\n",
            "video 1/1 (frame 459/542) /content/drive/MyDrive/ITS/Test Videos/testshort.mp4: 384x640 (no detections), 13.0ms\n",
            "video 1/1 (frame 460/542) /content/drive/MyDrive/ITS/Test Videos/testshort.mp4: 384x640 (no detections), 12.7ms\n",
            "video 1/1 (frame 461/542) /content/drive/MyDrive/ITS/Test Videos/testshort.mp4: 384x640 (no detections), 13.2ms\n",
            "video 1/1 (frame 462/542) /content/drive/MyDrive/ITS/Test Videos/testshort.mp4: 384x640 (no detections), 11.4ms\n",
            "video 1/1 (frame 463/542) /content/drive/MyDrive/ITS/Test Videos/testshort.mp4: 384x640 (no detections), 10.6ms\n",
            "video 1/1 (frame 464/542) /content/drive/MyDrive/ITS/Test Videos/testshort.mp4: 384x640 (no detections), 13.6ms\n",
            "video 1/1 (frame 465/542) /content/drive/MyDrive/ITS/Test Videos/testshort.mp4: 384x640 (no detections), 12.8ms\n",
            "video 1/1 (frame 466/542) /content/drive/MyDrive/ITS/Test Videos/testshort.mp4: 384x640 (no detections), 16.1ms\n",
            "video 1/1 (frame 467/542) /content/drive/MyDrive/ITS/Test Videos/testshort.mp4: 384x640 (no detections), 11.1ms\n",
            "video 1/1 (frame 468/542) /content/drive/MyDrive/ITS/Test Videos/testshort.mp4: 384x640 (no detections), 11.2ms\n",
            "video 1/1 (frame 469/542) /content/drive/MyDrive/ITS/Test Videos/testshort.mp4: 384x640 (no detections), 12.0ms\n",
            "video 1/1 (frame 470/542) /content/drive/MyDrive/ITS/Test Videos/testshort.mp4: 384x640 (no detections), 12.9ms\n",
            "video 1/1 (frame 471/542) /content/drive/MyDrive/ITS/Test Videos/testshort.mp4: 384x640 (no detections), 10.1ms\n",
            "video 1/1 (frame 472/542) /content/drive/MyDrive/ITS/Test Videos/testshort.mp4: 384x640 (no detections), 12.9ms\n",
            "video 1/1 (frame 473/542) /content/drive/MyDrive/ITS/Test Videos/testshort.mp4: 384x640 (no detections), 31.2ms\n",
            "video 1/1 (frame 474/542) /content/drive/MyDrive/ITS/Test Videos/testshort.mp4: 384x640 (no detections), 13.4ms\n",
            "video 1/1 (frame 475/542) /content/drive/MyDrive/ITS/Test Videos/testshort.mp4: 384x640 (no detections), 12.8ms\n",
            "video 1/1 (frame 476/542) /content/drive/MyDrive/ITS/Test Videos/testshort.mp4: 384x640 (no detections), 13.1ms\n",
            "video 1/1 (frame 477/542) /content/drive/MyDrive/ITS/Test Videos/testshort.mp4: 384x640 (no detections), 11.2ms\n",
            "video 1/1 (frame 478/542) /content/drive/MyDrive/ITS/Test Videos/testshort.mp4: 384x640 (no detections), 12.8ms\n",
            "video 1/1 (frame 479/542) /content/drive/MyDrive/ITS/Test Videos/testshort.mp4: 384x640 (no detections), 10.9ms\n",
            "video 1/1 (frame 480/542) /content/drive/MyDrive/ITS/Test Videos/testshort.mp4: 384x640 (no detections), 14.1ms\n",
            "video 1/1 (frame 481/542) /content/drive/MyDrive/ITS/Test Videos/testshort.mp4: 384x640 (no detections), 14.8ms\n",
            "video 1/1 (frame 482/542) /content/drive/MyDrive/ITS/Test Videos/testshort.mp4: 384x640 (no detections), 13.3ms\n",
            "video 1/1 (frame 483/542) /content/drive/MyDrive/ITS/Test Videos/testshort.mp4: 384x640 (no detections), 11.1ms\n",
            "video 1/1 (frame 484/542) /content/drive/MyDrive/ITS/Test Videos/testshort.mp4: 384x640 (no detections), 11.1ms\n",
            "video 1/1 (frame 485/542) /content/drive/MyDrive/ITS/Test Videos/testshort.mp4: 384x640 (no detections), 12.4ms\n",
            "video 1/1 (frame 486/542) /content/drive/MyDrive/ITS/Test Videos/testshort.mp4: 384x640 (no detections), 10.8ms\n",
            "video 1/1 (frame 487/542) /content/drive/MyDrive/ITS/Test Videos/testshort.mp4: 384x640 (no detections), 10.4ms\n",
            "video 1/1 (frame 488/542) /content/drive/MyDrive/ITS/Test Videos/testshort.mp4: 384x640 (no detections), 12.9ms\n",
            "video 1/1 (frame 489/542) /content/drive/MyDrive/ITS/Test Videos/testshort.mp4: 384x640 (no detections), 17.5ms\n",
            "video 1/1 (frame 490/542) /content/drive/MyDrive/ITS/Test Videos/testshort.mp4: 384x640 (no detections), 12.4ms\n",
            "video 1/1 (frame 491/542) /content/drive/MyDrive/ITS/Test Videos/testshort.mp4: 384x640 (no detections), 13.1ms\n",
            "video 1/1 (frame 492/542) /content/drive/MyDrive/ITS/Test Videos/testshort.mp4: 384x640 (no detections), 13.1ms\n",
            "video 1/1 (frame 493/542) /content/drive/MyDrive/ITS/Test Videos/testshort.mp4: 384x640 (no detections), 13.4ms\n",
            "video 1/1 (frame 494/542) /content/drive/MyDrive/ITS/Test Videos/testshort.mp4: 384x640 (no detections), 12.5ms\n",
            "video 1/1 (frame 495/542) /content/drive/MyDrive/ITS/Test Videos/testshort.mp4: 384x640 (no detections), 16.7ms\n",
            "video 1/1 (frame 496/542) /content/drive/MyDrive/ITS/Test Videos/testshort.mp4: 384x640 (no detections), 13.6ms\n",
            "video 1/1 (frame 497/542) /content/drive/MyDrive/ITS/Test Videos/testshort.mp4: 384x640 (no detections), 12.4ms\n",
            "video 1/1 (frame 498/542) /content/drive/MyDrive/ITS/Test Videos/testshort.mp4: 384x640 (no detections), 15.6ms\n",
            "video 1/1 (frame 499/542) /content/drive/MyDrive/ITS/Test Videos/testshort.mp4: 384x640 (no detections), 15.3ms\n",
            "video 1/1 (frame 500/542) /content/drive/MyDrive/ITS/Test Videos/testshort.mp4: 384x640 (no detections), 10.6ms\n",
            "video 1/1 (frame 501/542) /content/drive/MyDrive/ITS/Test Videos/testshort.mp4: 384x640 (no detections), 13.1ms\n",
            "video 1/1 (frame 502/542) /content/drive/MyDrive/ITS/Test Videos/testshort.mp4: 384x640 (no detections), 12.7ms\n",
            "video 1/1 (frame 503/542) /content/drive/MyDrive/ITS/Test Videos/testshort.mp4: 384x640 (no detections), 11.3ms\n",
            "video 1/1 (frame 504/542) /content/drive/MyDrive/ITS/Test Videos/testshort.mp4: 384x640 (no detections), 12.6ms\n",
            "video 1/1 (frame 505/542) /content/drive/MyDrive/ITS/Test Videos/testshort.mp4: 384x640 (no detections), 11.4ms\n",
            "video 1/1 (frame 506/542) /content/drive/MyDrive/ITS/Test Videos/testshort.mp4: 384x640 (no detections), 16.1ms\n",
            "video 1/1 (frame 507/542) /content/drive/MyDrive/ITS/Test Videos/testshort.mp4: 384x640 (no detections), 11.8ms\n",
            "video 1/1 (frame 508/542) /content/drive/MyDrive/ITS/Test Videos/testshort.mp4: 384x640 (no detections), 14.7ms\n",
            "video 1/1 (frame 509/542) /content/drive/MyDrive/ITS/Test Videos/testshort.mp4: 384x640 (no detections), 11.7ms\n",
            "video 1/1 (frame 510/542) /content/drive/MyDrive/ITS/Test Videos/testshort.mp4: 384x640 (no detections), 12.0ms\n",
            "video 1/1 (frame 511/542) /content/drive/MyDrive/ITS/Test Videos/testshort.mp4: 384x640 (no detections), 11.5ms\n",
            "video 1/1 (frame 512/542) /content/drive/MyDrive/ITS/Test Videos/testshort.mp4: 384x640 (no detections), 11.5ms\n",
            "video 1/1 (frame 513/542) /content/drive/MyDrive/ITS/Test Videos/testshort.mp4: 384x640 (no detections), 11.1ms\n",
            "video 1/1 (frame 514/542) /content/drive/MyDrive/ITS/Test Videos/testshort.mp4: 384x640 (no detections), 12.8ms\n",
            "video 1/1 (frame 515/542) /content/drive/MyDrive/ITS/Test Videos/testshort.mp4: 384x640 (no detections), 10.7ms\n",
            "video 1/1 (frame 516/542) /content/drive/MyDrive/ITS/Test Videos/testshort.mp4: 384x640 (no detections), 10.1ms\n",
            "video 1/1 (frame 517/542) /content/drive/MyDrive/ITS/Test Videos/testshort.mp4: 384x640 (no detections), 11.8ms\n",
            "video 1/1 (frame 518/542) /content/drive/MyDrive/ITS/Test Videos/testshort.mp4: 384x640 (no detections), 10.6ms\n",
            "video 1/1 (frame 519/542) /content/drive/MyDrive/ITS/Test Videos/testshort.mp4: 384x640 (no detections), 11.2ms\n",
            "video 1/1 (frame 520/542) /content/drive/MyDrive/ITS/Test Videos/testshort.mp4: 384x640 (no detections), 11.1ms\n",
            "video 1/1 (frame 521/542) /content/drive/MyDrive/ITS/Test Videos/testshort.mp4: 384x640 (no detections), 13.0ms\n",
            "video 1/1 (frame 522/542) /content/drive/MyDrive/ITS/Test Videos/testshort.mp4: 384x640 (no detections), 10.3ms\n",
            "video 1/1 (frame 523/542) /content/drive/MyDrive/ITS/Test Videos/testshort.mp4: 384x640 (no detections), 12.8ms\n",
            "video 1/1 (frame 524/542) /content/drive/MyDrive/ITS/Test Videos/testshort.mp4: 384x640 (no detections), 16.8ms\n",
            "video 1/1 (frame 525/542) /content/drive/MyDrive/ITS/Test Videos/testshort.mp4: 384x640 (no detections), 12.2ms\n",
            "video 1/1 (frame 526/542) /content/drive/MyDrive/ITS/Test Videos/testshort.mp4: 384x640 (no detections), 13.0ms\n",
            "video 1/1 (frame 527/542) /content/drive/MyDrive/ITS/Test Videos/testshort.mp4: 384x640 (no detections), 12.8ms\n",
            "video 1/1 (frame 528/542) /content/drive/MyDrive/ITS/Test Videos/testshort.mp4: 384x640 (no detections), 13.6ms\n",
            "video 1/1 (frame 529/542) /content/drive/MyDrive/ITS/Test Videos/testshort.mp4: 384x640 (no detections), 16.4ms\n",
            "video 1/1 (frame 530/542) /content/drive/MyDrive/ITS/Test Videos/testshort.mp4: 384x640 (no detections), 17.2ms\n",
            "video 1/1 (frame 531/542) /content/drive/MyDrive/ITS/Test Videos/testshort.mp4: 384x640 (no detections), 10.8ms\n",
            "video 1/1 (frame 532/542) /content/drive/MyDrive/ITS/Test Videos/testshort.mp4: 384x640 (no detections), 11.1ms\n",
            "video 1/1 (frame 533/542) /content/drive/MyDrive/ITS/Test Videos/testshort.mp4: 384x640 (no detections), 12.7ms\n",
            "video 1/1 (frame 534/542) /content/drive/MyDrive/ITS/Test Videos/testshort.mp4: 384x640 (no detections), 12.1ms\n",
            "video 1/1 (frame 535/542) /content/drive/MyDrive/ITS/Test Videos/testshort.mp4: 384x640 (no detections), 11.1ms\n",
            "video 1/1 (frame 536/542) /content/drive/MyDrive/ITS/Test Videos/testshort.mp4: 384x640 (no detections), 13.9ms\n",
            "video 1/1 (frame 537/542) /content/drive/MyDrive/ITS/Test Videos/testshort.mp4: 384x640 (no detections), 14.4ms\n",
            "video 1/1 (frame 538/542) /content/drive/MyDrive/ITS/Test Videos/testshort.mp4: 384x640 (no detections), 10.4ms\n",
            "video 1/1 (frame 539/542) /content/drive/MyDrive/ITS/Test Videos/testshort.mp4: 384x640 (no detections), 10.9ms\n",
            "video 1/1 (frame 540/542) /content/drive/MyDrive/ITS/Test Videos/testshort.mp4: 384x640 (no detections), 12.1ms\n",
            "video 1/1 (frame 541/542) /content/drive/MyDrive/ITS/Test Videos/testshort.mp4: 384x640 (no detections), 11.5ms\n",
            "video 1/1 (frame 542/542) /content/drive/MyDrive/ITS/Test Videos/testshort.mp4: 384x640 (no detections), 12.4ms\n",
            "Speed: 5.0ms preprocess, 18.1ms inference, 1.1ms postprocess per image at shape (1, 3, 384, 640)\n",
            "Results saved to \u001b[1mruns/detect/predict\u001b[0m\n",
            "Inference completed. Check the output folder for results.\n"
          ]
        }
      ]
    },
    {
      "cell_type": "code",
      "source": [
        "model.predict(source=video_path, save=True, project='runs/detect', name='Testshort_results', conf=0.3)"
      ],
      "metadata": {
        "id": "uZwjJUoT6s30",
        "outputId": "4fe4a306-0424-451a-8822-704b4350fbaa",
        "colab": {
          "base_uri": "https://localhost:8080/"
        }
      },
      "execution_count": null,
      "outputs": [
        {
          "output_type": "stream",
          "name": "stdout",
          "text": [
            "\n",
            "\n",
            "WARNING ⚠️ inference results will accumulate in RAM unless `stream=True` is passed, causing potential out-of-memory\n",
            "errors for large sources or long-running streams and videos. See https://docs.ultralytics.com/modes/predict/ for help.\n",
            "\n",
            "Example:\n",
            "    results = model(source=..., stream=True)  # generator of Results objects\n",
            "    for r in results:\n",
            "        boxes = r.boxes  # Boxes object for bbox outputs\n",
            "        masks = r.masks  # Masks object for segment masks outputs\n",
            "        probs = r.probs  # Class probabilities for classification outputs\n",
            "\n",
            "video 1/1 (frame 1/542) /content/drive/MyDrive/ITS/Test Videos/testshort.mp4: 384x640 (no detections), 845.2ms\n",
            "video 1/1 (frame 2/542) /content/drive/MyDrive/ITS/Test Videos/testshort.mp4: 384x640 (no detections), 2683.3ms\n",
            "video 1/1 (frame 3/542) /content/drive/MyDrive/ITS/Test Videos/testshort.mp4: 384x640 (no detections), 2796.6ms\n",
            "video 1/1 (frame 4/542) /content/drive/MyDrive/ITS/Test Videos/testshort.mp4: 384x640 (no detections), 34307.3ms\n",
            "video 1/1 (frame 5/542) /content/drive/MyDrive/ITS/Test Videos/testshort.mp4: 384x640 (no detections), 887.8ms\n",
            "video 1/1 (frame 6/542) /content/drive/MyDrive/ITS/Test Videos/testshort.mp4: 384x640 (no detections), 564.5ms\n",
            "video 1/1 (frame 7/542) /content/drive/MyDrive/ITS/Test Videos/testshort.mp4: 384x640 (no detections), 246.1ms\n",
            "video 1/1 (frame 8/542) /content/drive/MyDrive/ITS/Test Videos/testshort.mp4: 384x640 (no detections), 1120.5ms\n",
            "video 1/1 (frame 9/542) /content/drive/MyDrive/ITS/Test Videos/testshort.mp4: 384x640 1 htv, 784.8ms\n",
            "video 1/1 (frame 10/542) /content/drive/MyDrive/ITS/Test Videos/testshort.mp4: 384x640 1 htv, 3191.3ms\n",
            "WARNING ⚠️ NMS time limit 2.050s exceeded\n",
            "video 1/1 (frame 11/542) /content/drive/MyDrive/ITS/Test Videos/testshort.mp4: 384x640 1 htv, 18217.5ms\n",
            "video 1/1 (frame 12/542) /content/drive/MyDrive/ITS/Test Videos/testshort.mp4: 384x640 (no detections), 85309.1ms\n",
            "video 1/1 (frame 13/542) /content/drive/MyDrive/ITS/Test Videos/testshort.mp4: 384x640 (no detections), 367.7ms\n",
            "video 1/1 (frame 14/542) /content/drive/MyDrive/ITS/Test Videos/testshort.mp4: 384x640 1 htv, 11.6ms\n",
            "video 1/1 (frame 15/542) /content/drive/MyDrive/ITS/Test Videos/testshort.mp4: 384x640 1 htv, 12.9ms\n",
            "video 1/1 (frame 16/542) /content/drive/MyDrive/ITS/Test Videos/testshort.mp4: 384x640 1 htv, 12.7ms\n",
            "video 1/1 (frame 17/542) /content/drive/MyDrive/ITS/Test Videos/testshort.mp4: 384x640 (no detections), 12.1ms\n",
            "video 1/1 (frame 18/542) /content/drive/MyDrive/ITS/Test Videos/testshort.mp4: 384x640 (no detections), 19.8ms\n",
            "video 1/1 (frame 19/542) /content/drive/MyDrive/ITS/Test Videos/testshort.mp4: 384x640 (no detections), 11.8ms\n",
            "video 1/1 (frame 20/542) /content/drive/MyDrive/ITS/Test Videos/testshort.mp4: 384x640 1 htv, 13.5ms\n",
            "video 1/1 (frame 21/542) /content/drive/MyDrive/ITS/Test Videos/testshort.mp4: 384x640 1 htv, 15.8ms\n",
            "video 1/1 (frame 22/542) /content/drive/MyDrive/ITS/Test Videos/testshort.mp4: 384x640 1 htv, 18.1ms\n",
            "video 1/1 (frame 23/542) /content/drive/MyDrive/ITS/Test Videos/testshort.mp4: 384x640 1 htv, 11.5ms\n",
            "video 1/1 (frame 24/542) /content/drive/MyDrive/ITS/Test Videos/testshort.mp4: 384x640 (no detections), 11.7ms\n",
            "video 1/1 (frame 25/542) /content/drive/MyDrive/ITS/Test Videos/testshort.mp4: 384x640 (no detections), 12.1ms\n",
            "video 1/1 (frame 26/542) /content/drive/MyDrive/ITS/Test Videos/testshort.mp4: 384x640 (no detections), 13.4ms\n",
            "video 1/1 (frame 27/542) /content/drive/MyDrive/ITS/Test Videos/testshort.mp4: 384x640 (no detections), 13.1ms\n",
            "video 1/1 (frame 28/542) /content/drive/MyDrive/ITS/Test Videos/testshort.mp4: 384x640 (no detections), 12.9ms\n",
            "video 1/1 (frame 29/542) /content/drive/MyDrive/ITS/Test Videos/testshort.mp4: 384x640 (no detections), 16.9ms\n",
            "video 1/1 (frame 30/542) /content/drive/MyDrive/ITS/Test Videos/testshort.mp4: 384x640 (no detections), 10.9ms\n",
            "video 1/1 (frame 31/542) /content/drive/MyDrive/ITS/Test Videos/testshort.mp4: 384x640 1 htv, 12.2ms\n",
            "video 1/1 (frame 32/542) /content/drive/MyDrive/ITS/Test Videos/testshort.mp4: 384x640 1 htv, 12.9ms\n",
            "video 1/1 (frame 33/542) /content/drive/MyDrive/ITS/Test Videos/testshort.mp4: 384x640 1 htv, 12.8ms\n",
            "video 1/1 (frame 34/542) /content/drive/MyDrive/ITS/Test Videos/testshort.mp4: 384x640 (no detections), 21.6ms\n",
            "video 1/1 (frame 35/542) /content/drive/MyDrive/ITS/Test Videos/testshort.mp4: 384x640 1 htv, 12.9ms\n",
            "video 1/1 (frame 36/542) /content/drive/MyDrive/ITS/Test Videos/testshort.mp4: 384x640 1 htv, 15.6ms\n",
            "video 1/1 (frame 37/542) /content/drive/MyDrive/ITS/Test Videos/testshort.mp4: 384x640 1 htv, 11.8ms\n",
            "video 1/1 (frame 38/542) /content/drive/MyDrive/ITS/Test Videos/testshort.mp4: 384x640 1 htv, 11.8ms\n",
            "video 1/1 (frame 39/542) /content/drive/MyDrive/ITS/Test Videos/testshort.mp4: 384x640 1 htv, 11.9ms\n",
            "video 1/1 (frame 40/542) /content/drive/MyDrive/ITS/Test Videos/testshort.mp4: 384x640 (no detections), 11.8ms\n",
            "video 1/1 (frame 41/542) /content/drive/MyDrive/ITS/Test Videos/testshort.mp4: 384x640 1 htv, 11.8ms\n",
            "video 1/1 (frame 42/542) /content/drive/MyDrive/ITS/Test Videos/testshort.mp4: 384x640 1 htv, 11.9ms\n",
            "video 1/1 (frame 43/542) /content/drive/MyDrive/ITS/Test Videos/testshort.mp4: 384x640 1 htv, 12.0ms\n",
            "video 1/1 (frame 44/542) /content/drive/MyDrive/ITS/Test Videos/testshort.mp4: 384x640 (no detections), 12.0ms\n",
            "video 1/1 (frame 45/542) /content/drive/MyDrive/ITS/Test Videos/testshort.mp4: 384x640 1 htv, 12.2ms\n",
            "video 1/1 (frame 46/542) /content/drive/MyDrive/ITS/Test Videos/testshort.mp4: 384x640 1 htv, 11.7ms\n",
            "video 1/1 (frame 47/542) /content/drive/MyDrive/ITS/Test Videos/testshort.mp4: 384x640 1 htv, 11.9ms\n",
            "video 1/1 (frame 48/542) /content/drive/MyDrive/ITS/Test Videos/testshort.mp4: 384x640 1 htv, 13.4ms\n",
            "video 1/1 (frame 49/542) /content/drive/MyDrive/ITS/Test Videos/testshort.mp4: 384x640 1 htv, 21.1ms\n",
            "video 1/1 (frame 50/542) /content/drive/MyDrive/ITS/Test Videos/testshort.mp4: 384x640 (no detections), 13.3ms\n",
            "video 1/1 (frame 51/542) /content/drive/MyDrive/ITS/Test Videos/testshort.mp4: 384x640 1 htv, 16.9ms\n",
            "video 1/1 (frame 52/542) /content/drive/MyDrive/ITS/Test Videos/testshort.mp4: 384x640 1 htv, 13.7ms\n",
            "video 1/1 (frame 53/542) /content/drive/MyDrive/ITS/Test Videos/testshort.mp4: 384x640 1 htv, 17.5ms\n",
            "video 1/1 (frame 54/542) /content/drive/MyDrive/ITS/Test Videos/testshort.mp4: 384x640 1 htv, 13.6ms\n",
            "video 1/1 (frame 55/542) /content/drive/MyDrive/ITS/Test Videos/testshort.mp4: 384x640 (no detections), 11.9ms\n",
            "video 1/1 (frame 56/542) /content/drive/MyDrive/ITS/Test Videos/testshort.mp4: 384x640 1 htv, 14.2ms\n",
            "video 1/1 (frame 57/542) /content/drive/MyDrive/ITS/Test Videos/testshort.mp4: 384x640 (no detections), 12.7ms\n",
            "video 1/1 (frame 58/542) /content/drive/MyDrive/ITS/Test Videos/testshort.mp4: 384x640 (no detections), 12.5ms\n",
            "video 1/1 (frame 59/542) /content/drive/MyDrive/ITS/Test Videos/testshort.mp4: 384x640 1 htv, 12.0ms\n",
            "video 1/1 (frame 60/542) /content/drive/MyDrive/ITS/Test Videos/testshort.mp4: 384x640 1 htv, 12.8ms\n",
            "video 1/1 (frame 61/542) /content/drive/MyDrive/ITS/Test Videos/testshort.mp4: 384x640 1 htv, 12.2ms\n",
            "video 1/1 (frame 62/542) /content/drive/MyDrive/ITS/Test Videos/testshort.mp4: 384x640 1 htv, 12.4ms\n",
            "video 1/1 (frame 63/542) /content/drive/MyDrive/ITS/Test Videos/testshort.mp4: 384x640 (no detections), 12.7ms\n",
            "video 1/1 (frame 64/542) /content/drive/MyDrive/ITS/Test Videos/testshort.mp4: 384x640 (no detections), 12.2ms\n",
            "video 1/1 (frame 65/542) /content/drive/MyDrive/ITS/Test Videos/testshort.mp4: 384x640 (no detections), 15.7ms\n",
            "video 1/1 (frame 66/542) /content/drive/MyDrive/ITS/Test Videos/testshort.mp4: 384x640 (no detections), 19.2ms\n",
            "video 1/1 (frame 67/542) /content/drive/MyDrive/ITS/Test Videos/testshort.mp4: 384x640 (no detections), 24.2ms\n",
            "video 1/1 (frame 68/542) /content/drive/MyDrive/ITS/Test Videos/testshort.mp4: 384x640 (no detections), 20.4ms\n",
            "video 1/1 (frame 69/542) /content/drive/MyDrive/ITS/Test Videos/testshort.mp4: 384x640 (no detections), 16.6ms\n",
            "video 1/1 (frame 70/542) /content/drive/MyDrive/ITS/Test Videos/testshort.mp4: 384x640 (no detections), 30348.2ms\n",
            "WARNING ⚠️ NMS time limit 2.050s exceeded\n"
          ]
        }
      ]
    },
    {
      "cell_type": "code",
      "source": [],
      "metadata": {
        "id": "Av6mT7gWKkw9"
      },
      "execution_count": null,
      "outputs": []
    }
  ],
  "metadata": {
    "accelerator": "GPU",
    "colab": {
      "name": "Ultralytics HUB",
      "provenance": [],
      "gpuType": "T4"
    },
    "kernelspec": {
      "display_name": "Python 3",
      "name": "python3"
    },
    "language_info": {
      "name": "python"
    }
  },
  "nbformat": 4,
  "nbformat_minor": 0
}